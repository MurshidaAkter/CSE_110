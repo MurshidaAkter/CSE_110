{
  "nbformat": 4,
  "nbformat_minor": 0,
  "metadata": {
    "colab": {
      "provenance": [],
      "authorship_tag": "ABX9TyMP7deBzYCks7EuOioOgLXb",
      "include_colab_link": true
    },
    "kernelspec": {
      "name": "python3",
      "display_name": "Python 3"
    },
    "language_info": {
      "name": "python"
    }
  },
  "cells": [
    {
      "cell_type": "markdown",
      "metadata": {
        "id": "view-in-github",
        "colab_type": "text"
      },
      "source": [
        "<a href=\"https://colab.research.google.com/github/MurshidaAkter/CSE_110/blob/main/Lab_3_cse110.ipynb\" target=\"_parent\"><img src=\"https://colab.research.google.com/assets/colab-badge.svg\" alt=\"Open In Colab\"/></a>"
      ]
    },
    {
      "cell_type": "markdown",
      "source": [
        "Task 1: Write a Python program that takes a String as an input from the user and prints that String in\n",
        "reverse order. You cannot use the built-in reverse() function for this task."
      ],
      "metadata": {
        "id": "vyxQLLygxexX"
      }
    },
    {
      "cell_type": "code",
      "source": [
        "#task 1\n",
        "string=input()\n",
        "reversed=\"\"\n",
        "for i in string:\n",
        "    reversed=i+reversed\n",
        "print(reversed)"
      ],
      "metadata": {
        "id": "Xpiv9FptvvEr"
      },
      "execution_count": null,
      "outputs": []
    },
    {
      "cell_type": "markdown",
      "source": [
        "Task 2: Write a python program that takes 2 inputs from the user, where the first input is a string with\n",
        "length greater than 1. The second input is the index of the first given string from where you have\n",
        "to start reversing. After reversing the first input string from that index, print the new string back\n",
        "to the user. See samples below for clarification."
      ],
      "metadata": {
        "id": "Ygcnb4YOxll4"
      }
    },
    {
      "cell_type": "code",
      "source": [
        "#task2\n",
        "string=input()\n",
        "index=int(input(\"index: \"))\n",
        "reversed=\"\"\n",
        "j=0\n",
        "for i in string:\n",
        "  if j<=index:\n",
        "    reversed=i+reversed\n",
        "  elif j>index:\n",
        "    reversed+=i\n",
        "  j+=1\n",
        "print(reversed)"
      ],
      "metadata": {
        "id": "JSKxKwHXPe41"
      },
      "execution_count": null,
      "outputs": []
    },
    {
      "cell_type": "markdown",
      "source": [
        "Task 3: Write a program that takes a string as input and prints “Binary Number” if the string contains\n",
        "only 0s or 1s. Otherwise, print “Not a Binary Number”."
      ],
      "metadata": {
        "id": "RzKQ68_gxrL-"
      }
    },
    {
      "cell_type": "code",
      "source": [
        "#task 3\n",
        "string=input()\n",
        "count=binary=0\n",
        "for i in string:\n",
        "  if i=='0' or i=='1':\n",
        "    binary+=1\n",
        "  else: binary+=0\n",
        "  count+=1\n",
        "if binary==count:\n",
        "  print(\"Binary Number\")\n",
        "else: print(\"Not a Binary Number\")"
      ],
      "metadata": {
        "id": "3JAMGIeeVxci"
      },
      "execution_count": null,
      "outputs": []
    },
    {
      "cell_type": "markdown",
      "source": [
        "Task 4: Write a Python program that will ask the user to enter a word as an input.\n",
        "● If the length of the input string is less than 4, then your program should print the same\n",
        "string as an output.\n",
        "● If the input string’s length is greater than 3, then your program should add \"er\" at the end\n",
        "of the input string.\n",
        "● If the input string already ends with \"er\", then add \"est\" instead, regardless of the length\n",
        "of the input string\n",
        "● If the input string already ends with \"est\", then your program should print the same input\n",
        "string as an output."
      ],
      "metadata": {
        "id": "JPDT7xabxvdm"
      }
    },
    {
      "cell_type": "code",
      "source": [
        "#task 4\n",
        "string=input()\n",
        "count=len(string)\n",
        "est=er=rem=\"\"\n",
        "count1=0\n",
        "for j in string:\n",
        "  count1+=1\n",
        "  if count1>=count-2:\n",
        "      est+=j\n",
        "  if count1>=count-1:\n",
        "      er+=j\n",
        "  else:\n",
        "      rem+=j\n",
        "\n",
        "if er==\"er\":\n",
        "  print(rem+\"est\")\n",
        "elif est==\"est\":\n",
        "  print(string)\n",
        "else:\n",
        "  print(string+\"er\")\n"
      ],
      "metadata": {
        "id": "O5XexTaVl7dL"
      },
      "execution_count": null,
      "outputs": []
    },
    {
      "cell_type": "markdown",
      "source": [
        "Task 5: Write a Python program that will ask the user to input a string (containing exactly one word).\n",
        "Then your program should print subsequent substrings of the given string as shown in the\n",
        "examples below."
      ],
      "metadata": {
        "id": "s2JM6CzPx0Af"
      }
    },
    {
      "cell_type": "code",
      "source": [
        "#task 5\n",
        "string=input()\n",
        "rem,count=\"\",0\n",
        "\n",
        "for i in string:\n",
        "  count+=1\n",
        "  rem+=i\n",
        "  print(rem)\n"
      ],
      "metadata": {
        "id": "HHI1FRa1rgqT",
        "colab": {
          "base_uri": "https://localhost:8080/"
        },
        "outputId": "e4ddf5b1-4f85-4108-eb28-31394e6930e0"
      },
      "execution_count": null,
      "outputs": [
        {
          "output_type": "stream",
          "name": "stdout",
          "text": [
            "hojoborolo\n",
            "h\n",
            "ho\n",
            "hoj\n",
            "hojo\n",
            "hojob\n",
            "hojobo\n",
            "hojobor\n",
            "hojoboro\n",
            "hojoborol\n",
            "hojoborolo\n"
          ]
        }
      ]
    },
    {
      "cell_type": "markdown",
      "source": [
        "Task 6:Write a Python program that will ask the user to input a string (containing exactly one word).\n",
        "Then print the ASCII code for each character in the String using the ord() function.\n",
        "To check if your program is working correctly or not, you can find a list of all correct values\n",
        "from the following website. You may look at “Dec” and “Char” columns only and ignore the\n",
        "other columns for this problem.\n",
        "link: http://www.asciitable.com/"
      ],
      "metadata": {
        "id": "42Ts5rayx4Tf"
      }
    },
    {
      "cell_type": "code",
      "source": [
        "#task 6\n",
        "string=input()\n",
        "ascii=\"\"\n",
        "for i in string:\n",
        "    ascii=ord(i)\n",
        "    print(i+\" :\",ascii)\n"
      ],
      "metadata": {
        "id": "8LLa3WTmkL_A"
      },
      "execution_count": null,
      "outputs": []
    },
    {
      "cell_type": "markdown",
      "source": [
        "Task 7: Write a Python program that takes a string as an input from the user containing all small letters\n",
        "and then prints the next alphabet in sequence for each alphabet in the input."
      ],
      "metadata": {
        "id": "dtqMLNGdx_0H"
      }
    },
    {
      "cell_type": "code",
      "source": [
        "#task 7\n",
        "string=input()\n",
        "ascii=\"\"\n",
        "char=0\n",
        "for i in string:\n",
        "    ascii=ord(i)\n",
        "    char=ascii+1\n",
        "    char=chr(char)\n",
        "    print(char,end=\"\")"
      ],
      "metadata": {
        "id": "LqzsVrP8wTFp"
      },
      "execution_count": null,
      "outputs": []
    },
    {
      "cell_type": "markdown",
      "source": [
        "Task 8: Write a Python program that takes a String as input from the user, removes the characters at even\n",
        "index and prints the resulting String in uppercase without using the built-in function upper()."
      ],
      "metadata": {
        "id": "Q8y6OS71yGLe"
      }
    },
    {
      "cell_type": "code",
      "source": [
        "#task 8\n",
        "string=input()\n",
        "lent=len(string)\n",
        "ascii=\"\"\n",
        "char=0\n",
        "for i in range(lent):\n",
        "  if i%2!=0:\n",
        "    ascii=ord(string[i])\n",
        "    char=ascii-32\n",
        "    char=chr(char)\n",
        "    print(char,end=\"\")\n",
        "  "
      ],
      "metadata": {
        "id": "lRnlxBs6ymz9",
        "colab": {
          "base_uri": "https://localhost:8080/"
        },
        "outputId": "0ed805ef-c974-4ac8-94f9-1384170f4d41"
      },
      "execution_count": null,
      "outputs": [
        {
          "output_type": "stream",
          "name": "stdout",
          "text": [
            "abcd\n",
            "BD"
          ]
        }
      ]
    },
    {
      "cell_type": "markdown",
      "source": [
        "Task 9: Given a string, create a new string with all the consecutive duplicates removed.\n",
        "Hint: You may make a new string to store the result. You can check whether the current\n",
        "character and the next character are the same, then add that character to the new string.\n",
        "Note: Only consecutive letters are removed not all duplicate occurrences of a letter. You may try\n",
        "doing this alternative i.e., removing all duplicate letters from a given string, for your own\n",
        "practice."
      ],
      "metadata": {
        "id": "h10d_AiFyNTv"
      }
    },
    {
      "cell_type": "code",
      "source": [
        "#task 9\n",
        "word=input()\n",
        "lent=len(word)\n",
        "for i in range(lent):\n",
        "  if i<(lent-1):\n",
        "    if word[i]!= word[i+1]:\n",
        "      print(word[i],end=\"\")\n",
        "  else:\n",
        "    print(word[i])\n",
        "  "
      ],
      "metadata": {
        "id": "Nlex0Yqg4fdr",
        "colab": {
          "base_uri": "https://localhost:8080/"
        },
        "outputId": "1a9c7d37-109b-42fa-800d-9485d628fce3"
      },
      "execution_count": null,
      "outputs": [
        {
          "output_type": "stream",
          "name": "stdout",
          "text": [
            "Jupyter Notebook is better. Case sensitivity check AAaaaAaaAAAa.\n",
            "Jupyter Notebok is beter. Case sensitivity check AaAaAa.\n"
          ]
        }
      ]
    },
    {
      "cell_type": "markdown",
      "source": [
        "Task 10: Write a Python program that will take one input from the user made up of two strings separated\n",
        "by a comma and a space (see samples below). Then create a mixed string with alternative\n",
        "characters from each string. Any leftover chars will be appended at the end of the resulting\n",
        "string. [ Do not use lists for this task]"
      ],
      "metadata": {
        "id": "zJZwTcfYyUOu"
      }
    },
    {
      "cell_type": "code",
      "source": [
        "#task 10\n",
        "word=input()\n",
        "lent=len(word)\n",
        "add=\"\"\n",
        "for i in range(lent):\n",
        "  if word[i]==\",\":\n",
        "    splitpoint=i\n",
        "    pvot=i+2\n",
        "\n",
        "for j in range(splitpoint):\n",
        "  if j<(lent-pvot):\n",
        "    add=add+word[j]+word[pvot+j]\n",
        "  else:\n",
        "    add=add+word[j]\n",
        "\n",
        "print(add)"
      ],
      "metadata": {
        "id": "fxV4n3Il4iqp",
        "colab": {
          "base_uri": "https://localhost:8080/"
        },
        "outputId": "1380cbf9-fc9c-4340-f2e7-d6979c360ad7"
      },
      "execution_count": null,
      "outputs": [
        {
          "output_type": "stream",
          "name": "stdout",
          "text": [
            "ABCDENDFGH, ijkl\n",
            "AiBjCkDlENDFGH\n"
          ]
        }
      ]
    },
    {
      "cell_type": "markdown",
      "source": [
        "Tracing"
      ],
      "metadata": {
        "id": "dZpkUPAayYkn"
      }
    },
    {
      "cell_type": "code",
      "source": [
        "#task 11\n",
        "i = 10\n",
        "while(i >= -20):\n",
        "  if(i < 0):\n",
        "    test = \" != \"\n",
        "    test = str(i//2) + test + str(int(i/2))\n",
        "  else:\n",
        "    test = \" == \"\n",
        "    test = str(i//2) + test + str(int(i/2))\n",
        "  print(test)\n",
        "  i -= 5"
      ],
      "metadata": {
        "colab": {
          "base_uri": "https://localhost:8080/"
        },
        "id": "1ugq2lDt4j6s",
        "outputId": "7253fc3f-cadf-4870-dd72-7352d1b1299c"
      },
      "execution_count": null,
      "outputs": [
        {
          "output_type": "stream",
          "name": "stdout",
          "text": [
            "5 == 5\n",
            "2 == 2\n",
            "0 == 0\n",
            "-3 != -2\n",
            "-5 != -5\n",
            "-8 != -7\n",
            "-10 != -10\n"
          ]
        }
      ]
    },
    {
      "cell_type": "code",
      "source": [
        "#task 12\n",
        "test = \"\"\n",
        "i = 0\n",
        "j = 0\n",
        "k = 15\n",
        "test = \"-->\"\n",
        "while i < 5:\n",
        "  j = k - 1\n",
        "  k -= 1\n",
        "  while j > 10:\n",
        "    test = str(i + j) + \"-->\" + test\n",
        "    print(test)\n",
        "    j -= 1\n",
        "  i += 1"
      ],
      "metadata": {
        "id": "K_78OA884lOS",
        "colab": {
          "base_uri": "https://localhost:8080/"
        },
        "outputId": "ddc148ab-3a42-45d8-f0ac-79bb6272cc3c"
      },
      "execution_count": null,
      "outputs": [
        {
          "output_type": "stream",
          "name": "stdout",
          "text": [
            "14-->-->\n",
            "13-->14-->-->\n",
            "12-->13-->14-->-->\n",
            "11-->12-->13-->14-->-->\n",
            "14-->11-->12-->13-->14-->-->\n",
            "13-->14-->11-->12-->13-->14-->-->\n",
            "12-->13-->14-->11-->12-->13-->14-->-->\n",
            "14-->12-->13-->14-->11-->12-->13-->14-->-->\n",
            "13-->14-->12-->13-->14-->11-->12-->13-->14-->-->\n",
            "14-->13-->14-->12-->13-->14-->11-->12-->13-->14-->-->\n"
          ]
        }
      ]
    },
    {
      "cell_type": "code",
      "source": [
        "#task 13\n",
        "test = \"\"\n",
        "i = 5\n",
        "j = 0\n",
        "k = 15\n",
        "while i< 10:\n",
        "  k-=1\n",
        "  j = k\n",
        "  while j > 10:\n",
        "    if (j % 2) == 0:\n",
        "      test = \"<--\"\n",
        "      test = str(test) + str(i) + str(2) + \"-->\" + str(int(j / 2))\n",
        "    else:\n",
        "      test = \"-->\"\n",
        "      test = \"-->\" + str(int(i / 2)) + str(test) + str(j)\n",
        "    print(test)\n",
        "    j = j-1\n",
        "  i+=1"
      ],
      "metadata": {
        "id": "4INXbaOo4mLE",
        "colab": {
          "base_uri": "https://localhost:8080/"
        },
        "outputId": "ad4e50dc-db40-47a5-ff22-a0b1669e78c1"
      },
      "execution_count": null,
      "outputs": [
        {
          "output_type": "stream",
          "name": "stdout",
          "text": [
            "<--52-->7\n",
            "-->2-->13\n",
            "<--52-->6\n",
            "-->2-->11\n",
            "-->3-->13\n",
            "<--62-->6\n",
            "-->3-->11\n",
            "<--72-->6\n",
            "-->3-->11\n",
            "-->4-->11\n"
          ]
        }
      ]
    },
    {
      "cell_type": "code",
      "source": [
        "#task 14\n",
        "test = \"\"\n",
        "i = 5\n",
        "j = 0\n",
        "k = 15\n",
        "while (i< 10):\n",
        "  k-=1\n",
        "  j = k\n",
        "  while (j > 10 ):\n",
        "    if j % 2 == 0:\n",
        "      test = \"<--\"\n",
        "      test = test + str( i) + '3' + \"-->\" + str(j // 3)\n",
        "    else:\n",
        "      test = \"-->\"\n",
        "      test = \"-->\" + str((i // 3)) + test + str(j)\n",
        "    print(test)\n",
        "    j -=1\n",
        "  i+=1"
      ],
      "metadata": {
        "id": "OZS6wd9e4nHv",
        "colab": {
          "base_uri": "https://localhost:8080/"
        },
        "outputId": "54079a02-bb17-482b-8f65-a382d5cf92f0"
      },
      "execution_count": null,
      "outputs": [
        {
          "output_type": "stream",
          "name": "stdout",
          "text": [
            "<--53-->4\n",
            "-->1-->13\n",
            "<--53-->4\n",
            "-->1-->11\n",
            "-->2-->13\n",
            "<--63-->4\n",
            "-->2-->11\n",
            "<--73-->4\n",
            "-->2-->11\n",
            "-->2-->11\n"
          ]
        }
      ]
    },
    {
      "cell_type": "code",
      "source": [
        "#task 15\n",
        "i=0\n",
        "j=0\n",
        "k=15\n",
        "test = '<--cat'\n",
        "while i < 5:\n",
        "  k -= 1\n",
        "  j = k\n",
        "  while j > 10:\n",
        "    if j % 2 == 0:\n",
        "      test += '-->'\n",
        "      test = test + str(i) + str(j // 2)\n",
        "    else:\n",
        "      test += '<--'\n",
        "      test = test + str(i // 2) + str(j)\n",
        "    print(test)\n",
        "    j-=1\n",
        "  i+=1"
      ],
      "metadata": {
        "id": "qZQjgvAa4our",
        "colab": {
          "base_uri": "https://localhost:8080/"
        },
        "outputId": "e3af4331-db32-4943-fbcf-617c88b81325"
      },
      "execution_count": null,
      "outputs": [
        {
          "output_type": "stream",
          "name": "stdout",
          "text": [
            "<--cat-->07\n",
            "<--cat-->07<--013\n",
            "<--cat-->07<--013-->06\n",
            "<--cat-->07<--013-->06<--011\n",
            "<--cat-->07<--013-->06<--011<--013\n",
            "<--cat-->07<--013-->06<--011<--013-->16\n",
            "<--cat-->07<--013-->06<--011<--013-->16<--011\n",
            "<--cat-->07<--013-->06<--011<--013-->16<--011-->26\n",
            "<--cat-->07<--013-->06<--011<--013-->16<--011-->26<--111\n",
            "<--cat-->07<--013-->06<--011<--013-->16<--011-->26<--111<--111\n"
          ]
        }
      ]
    },
    {
      "cell_type": "code",
      "source": [
        "13.555%2.3"
      ],
      "metadata": {
        "colab": {
          "base_uri": "https://localhost:8080/"
        },
        "id": "pj2RDjAJWOWe",
        "outputId": "e8c93712-e42b-4e0b-b136-49147eb3105b"
      },
      "execution_count": null,
      "outputs": [
        {
          "output_type": "execute_result",
          "data": {
            "text/plain": [
              "2.0550000000000006"
            ]
          },
          "metadata": {},
          "execution_count": 7
        }
      ]
    }
  ]
}