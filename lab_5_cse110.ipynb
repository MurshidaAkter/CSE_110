{
  "nbformat": 4,
  "nbformat_minor": 0,
  "metadata": {
    "colab": {
      "provenance": [],
      "authorship_tag": "ABX9TyM25IwWo4wCoj7/GHm7ebh5",
      "include_colab_link": true
    },
    "kernelspec": {
      "name": "python3",
      "display_name": "Python 3"
    },
    "language_info": {
      "name": "python"
    }
  },
  "cells": [
    {
      "cell_type": "markdown",
      "metadata": {
        "id": "view-in-github",
        "colab_type": "text"
      },
      "source": [
        "<a href=\"https://colab.research.google.com/github/MurshidaAkter/CSE_110/blob/main/lab_5_cse110.ipynb\" target=\"_parent\"><img src=\"https://colab.research.google.com/assets/colab-badge.svg\" alt=\"Open In Colab\"/></a>"
      ]
    },
    {
      "cell_type": "markdown",
      "source": [
        "Task1: Assume, you have been given a tuple.\n",
        "a_tuple = (\"The Institute\", (\"Best Mystery & Thriller\", \"The Silent Patient\", 68821), 75717,\n",
        "[1, 2, 3, 400, 5, 6, 7], (\"Best Fiction\", \"The Testaments\", 98291))\n",
        "Write one line of Python code to access and print the value 400.\n",
        "===================================================================\n",
        "Output: 400\n",
        "==================================================================="
      ],
      "metadata": {
        "id": "HmIU8eeytm_v"
      }
    },
    {
      "cell_type": "code",
      "execution_count": null,
      "metadata": {
        "colab": {
          "base_uri": "https://localhost:8080/"
        },
        "id": "b3xN3usCQQGd",
        "outputId": "160a8dbb-1dc7-4fc5-ac07-85d077c70b8e"
      },
      "outputs": [
        {
          "output_type": "stream",
          "name": "stdout",
          "text": [
            "400\n"
          ]
        }
      ],
      "source": [
        "#task 1\n",
        "a_tuple = (\"The Institute\", (\"Best Mystery & Thriller\",\n",
        "                             \"The Silent Patient\", 68821), 75717,\n",
        "           [1, 2, 3, 400, 5, 6, 7], \n",
        "           (\"Best Fiction\", \"The Testaments\", 98291))\n",
        "print(a_tuple[3][3])"
      ]
    },
    {
      "cell_type": "markdown",
      "source": [
        "Task2: Assume, you have been given a tuple. Write a Python program that creates a new\n",
        "tuple excluding the first and last two elements of the given tuple and prints the new tuple."
      ],
      "metadata": {
        "id": "4dCBrOaxtuuG"
      }
    },
    {
      "cell_type": "code",
      "source": [
        "#task 2\n",
        "a_tuple= (-10, 20, 25, 30, 40)\n",
        "print(a_tuple[2:len(a_tuple)-2])"
      ],
      "metadata": {
        "colab": {
          "base_uri": "https://localhost:8080/"
        },
        "id": "7GjymV_yQ4i1",
        "outputId": "97672838-083f-43cc-861c-19a578201b50"
      },
      "execution_count": null,
      "outputs": [
        {
          "output_type": "stream",
          "name": "stdout",
          "text": [
            "(25,)\n"
          ]
        }
      ]
    },
    {
      "cell_type": "markdown",
      "source": [
        "Task 3: Write a Python program that prints the size of the tuple and all its elements as shown below.\n",
        "===================================================================\n",
        "Output:\n",
        "Size of the tuple is: 4\n",
        "('Best Mystery & Thriller', 'The Silent Patient', 68, 821)\n",
        "('Best Horror', 'The Institute', 75, 717)\n",
        "('Best History & Biography', 'The five', 31, 783)\n",
        "('Best Fiction', 'The Testaments', 98, 291)"
      ],
      "metadata": {
        "id": "P6M-9B4Jt0gu"
      }
    },
    {
      "cell_type": "code",
      "source": [
        "#task 3\n",
        "book_info = (\n",
        "(\"Best Mystery & Thriller\",\"The Silent Patient\",68,821),\n",
        "(\"Best Horror\",\"The Institute\",75,717),\n",
        "(\"Best History & Biography\",\"The five\",31,783 ),\n",
        "(\"Best Fiction\",\"The Testaments\",98,291)\n",
        ")\n",
        "print(\"Size of the tuple: \", len(book_info))\n",
        "for iterate in book_info:\n",
        "    print(iterate)"
      ],
      "metadata": {
        "colab": {
          "base_uri": "https://localhost:8080/"
        },
        "id": "o974VKC_R3N8",
        "outputId": "b3dcc386-d8a6-4f1e-b758-cd45204e4fb8"
      },
      "execution_count": null,
      "outputs": [
        {
          "output_type": "stream",
          "name": "stdout",
          "text": [
            "Size of the tuple:  4\n",
            "('Best Mystery & Thriller', 'The Silent Patient', 68, 821)\n",
            "('Best Horror', 'The Institute', 75, 717)\n",
            "('Best History & Biography', 'The five', 31, 783)\n",
            "('Best Fiction', 'The Testaments', 98, 291)\n"
          ]
        }
      ]
    },
    {
      "cell_type": "markdown",
      "source": [
        "Task 4: Write a Python program that prints the award category, the book name, and its total votes\n",
        "earned as shown below.\n",
        "[Must use Tuple unpacking for printing and need to handle the quotation marks as a part\n",
        "of the output]"
      ],
      "metadata": {
        "id": "UUTAR5bmt8hW"
      }
    },
    {
      "cell_type": "code",
      "source": [
        "#task 4\n",
        "book_info = (\n",
        "(\"Best Mystery & Thriller\",\"The Silent Patient\",68821),\n",
        "(\"Best Horror\",\"The Institute\",75717),\n",
        "(\"Best History & Biography\",\"The five\",31783 ),\n",
        "(\"Best Fiction\",\"The Testaments\",98291)\n",
        ")\n",
        "for iterate in range(len(book_info)):\n",
        "    print(\"{} won the '{}' category with {} votes\".format(book_info[iterate][1],book_info[iterate][0],book_info[iterate][2]))"
      ],
      "metadata": {
        "colab": {
          "base_uri": "https://localhost:8080/"
        },
        "id": "cqohpwqKS3lT",
        "outputId": "d21b6e0d-af0f-4d41-e330-6b6ffde34ddf"
      },
      "execution_count": null,
      "outputs": [
        {
          "output_type": "stream",
          "name": "stdout",
          "text": [
            "The Silent Patient won the 'Best Mystery & Thriller' category with 68821 votes\n",
            "The Institute won the 'Best Horror' category with 75717 votes\n",
            "The five won the 'Best History & Biography' category with 31783 votes\n",
            "The Testaments won the 'Best Fiction' category with 98291 votes\n"
          ]
        }
      ]
    },
    {
      "cell_type": "markdown",
      "source": [
        "Task 5: Write a python program that takes an input from the user and finds the number of times that the\n",
        "input is present in a given tuple.\n",
        "===================================================================\n",
        "Example 1:\n",
        "Given tuple: (10, 8, 5, 2, 10, 15, 10, 8, 5, 8, 8, 2)\n",
        "Sample Input 1:\n",
        "8\n",
        "Sample Output 1:\n",
        "8 appears 4 times in the tuple"
      ],
      "metadata": {
        "id": "ZO-IMMobuDRI"
      }
    },
    {
      "cell_type": "code",
      "source": [
        "#task 5\n",
        "given_tuple= (10, 8, 5, 2, 10, 15, 10, 8, 5, 8, 8, 2)\n",
        "user_input=int(input(\"Enter a number: \"))\n",
        "found=0\n",
        "for iterate in given_tuple:\n",
        "    if iterate==user_input:\n",
        "        found+=1\n",
        "print(\"{} appears {} times in the tuple\".format(user_input,found))"
      ],
      "metadata": {
        "colab": {
          "base_uri": "https://localhost:8080/"
        },
        "id": "O22QcvsdGqtR",
        "outputId": "a563a874-50a9-4270-d30c-56df0f246b6b"
      },
      "execution_count": null,
      "outputs": [
        {
          "output_type": "stream",
          "name": "stdout",
          "text": [
            "Enter a number: 1\n",
            "1 appears 0 times in the tuple\n"
          ]
        }
      ]
    },
    {
      "cell_type": "markdown",
      "source": [
        "Task 6: Write a Python program to reverse a given tuple.\n",
        "[You are not allowed to use tuple slicing]"
      ],
      "metadata": {
        "id": "nZdgbXT9uaif"
      }
    },
    {
      "cell_type": "code",
      "source": [
        "#task 6\n",
        "given_tuple= ('a', 'b', 'c', 'd', 'e', 'f', 'g', 'h')\n",
        "converted_list=list(given_tuple)\n",
        "final_list=converted_list[-1: :-1]\n",
        "print(tuple(final_list))"
      ],
      "metadata": {
        "colab": {
          "base_uri": "https://localhost:8080/"
        },
        "id": "8btSJ3eSII6J",
        "outputId": "23b870b8-2d21-4b0f-ce11-17adea4a8d8d"
      },
      "execution_count": null,
      "outputs": [
        {
          "output_type": "stream",
          "name": "stdout",
          "text": [
            "('h', 'g', 'f', 'e', 'd', 'c', 'b', 'a')\n"
          ]
        }
      ]
    },
    {
      "cell_type": "markdown",
      "source": [
        "Task 7: Suppose you are given two dictionaries.\n",
        "Now create a new dictionary \"marks\", merging the two dictionaries, so that the original two\n",
        "dictionaries remain unchanged.\n",
        "Note: You can use dictionary functions."
      ],
      "metadata": {
        "id": "uQuXVklaunX4"
      }
    },
    {
      "cell_type": "code",
      "source": [
        "#task 7\n",
        "given_dict1= new_dict={'Harry':15, 'Draco':8, 'Nevil':19}\n",
        "given_dict2= {'Ginie':18, 'Luna': 14}\n",
        "\n",
        "new_dict.update(given_dict2)\n",
        "print(new_dict)"
      ],
      "metadata": {
        "colab": {
          "base_uri": "https://localhost:8080/"
        },
        "id": "fIvV04WaJBSK",
        "outputId": "7c65b485-4d4c-4abd-eb2c-a0ad6609897b"
      },
      "execution_count": null,
      "outputs": [
        {
          "output_type": "stream",
          "name": "stdout",
          "text": [
            "{'Harry': 15, 'Draco': 8, 'Nevil': 19, 'Ginie': 18, 'Luna': 14}\n"
          ]
        }
      ]
    },
    {
      "cell_type": "markdown",
      "source": [
        "Task 8: Write a Python program that takes a dictionary as an input from the user and then prints the\n",
        "average of all the values in the dictionary.\n",
        "[You are not allowed to use len() and sum()]"
      ],
      "metadata": {
        "id": "cyXSLdeTutAf"
      }
    },
    {
      "cell_type": "code",
      "source": [
        "#task 8\n",
        "user_dict={}\n",
        "size=int(input(\"enter size of dictionary:\"))\n",
        "values=0\n",
        "for iterate in range(size):\n",
        "    iterate=input(\"enter key: \")\n",
        "    user_dict[iterate]=int(input(\"enter value: \"))\n",
        "print(user_dict)\n",
        "for key,value in user_dict.items():\n",
        "    values+=value\n",
        "\n",
        "print(\"Average is:\",int(values/size))"
      ],
      "metadata": {
        "colab": {
          "base_uri": "https://localhost:8080/"
        },
        "id": "qrqKGaZbTOVq",
        "outputId": "87812d1d-7b1c-42e5-9155-5969093aa732"
      },
      "execution_count": null,
      "outputs": [
        {
          "output_type": "stream",
          "name": "stdout",
          "text": [
            "enter size of dictionary:3\n",
            "enter key: g\n",
            "enter value: 100\n",
            "enter key: g\n",
            "enter value: 20\n",
            "enter key: k\n",
            "enter value: 10\n",
            "{'g': 20, 'k': 10}\n",
            "Average is: 10\n"
          ]
        }
      ]
    },
    {
      "cell_type": "markdown",
      "source": [
        "Task 9: Suppose there is a dictionary named exam_marks as given below.\n",
        "exam_marks = {'Cierra Vega': 175, 'Alden Cantrell': 200, 'Kierra Gentry': 165, 'Pierre Cox': 190}\n",
        "Write a Python program that takes an input from the user and creates a new dictionary with only\n",
        "those elements from 'exam_marks' whose keys have values higher than the user input\n",
        "(inclusive)."
      ],
      "metadata": {
        "id": "JpDCK4beuwhG"
      }
    },
    {
      "cell_type": "code",
      "source": [
        "#task 9\n",
        "exam_marks = {'Cierra Vega': 175, 'Alden Cantrell': 200, 'Kierra Gentry': 165, 'Pierre Cox': 190}\n",
        "new_dict={}\n",
        "mark=int(input(\"enter mark: \"))\n",
        "for key,value in exam_marks.items():\n",
        "    if value>mark:\n",
        "        new_dict[key]=exam_marks[key]\n",
        "print(new_dict)"
      ],
      "metadata": {
        "colab": {
          "base_uri": "https://localhost:8080/"
        },
        "id": "7gbACJ3AZv1f",
        "outputId": "30035019-f289-4ad6-cb2b-0502189c6518"
      },
      "execution_count": null,
      "outputs": [
        {
          "output_type": "stream",
          "name": "stdout",
          "text": [
            "enter mark: 170\n",
            "{'Cierra Vega': 175, 'Alden Cantrell': 200, 'Pierre Cox': 190}\n"
          ]
        }
      ]
    },
    {
      "cell_type": "code",
      "source": [
        "#task 9\n",
        "exam_marks = {'Cierra Vega': 175, 'Alden Cantrell': 200, 'Kierra Gentry': 165, 'Pierre Cox': 190}\n",
        "new_dict={}\n",
        "mark=int(input(\"enter mark: \"))\n",
        "for iterate in exam_marks:\n",
        "    if exam_marks[iterate]>mark:\n",
        "        new_dict[iterate]=exam_marks[iterate]\n",
        "print(new_dict)"
      ],
      "metadata": {
        "colab": {
          "base_uri": "https://localhost:8080/"
        },
        "id": "8Al3wJAn6nE9",
        "outputId": "86388117-63ba-4cf7-e46f-210d3907ca06"
      },
      "execution_count": null,
      "outputs": [
        {
          "output_type": "stream",
          "name": "stdout",
          "text": [
            "enter mark: 23\n",
            "175\n",
            "200\n",
            "165\n",
            "190\n",
            "{'Cierra Vega': 175, 'Alden Cantrell': 200, 'Kierra Gentry': 165, 'Pierre Cox': 190}\n"
          ]
        }
      ]
    },
    {
      "cell_type": "markdown",
      "source": [
        "Task 10: Write a Python program that finds the largest value with its key from a given dictionary.\n",
        "[You are not allowed to use the max() function for this task]\n",
        "Note: You do not need to take the dictionaries as an input from the user but your code should\n",
        "work for any given dictionary. Also, you need to handle the quotation marks as a part of the\n",
        "output.\n",
        "Hint: Think of membership operators (in and not in). You can use dictionary functions to get the\n",
        "values."
      ],
      "metadata": {
        "id": "6zqPdhccu3oe"
      }
    },
    {
      "cell_type": "code",
      "source": [
        "#task 10\n",
        "given_dict = {'sci fi': 12, 'mystery': 15, \n",
        "              'horror': 8, 'mythology': 10, \n",
        "              'young_adult': 4, 'adventure':14}\n",
        "max= given_dict['sci fi']\n",
        "#new_dict={}\n",
        "for key,value in given_dict.items():\n",
        "    if value>max:\n",
        "        max=value\n",
        "        #new_dict[key]=given_dict[key]\n",
        "        genre=key\n",
        "        sold=value\n",
        "\n",
        "print(\"The highest selling book genre is '{}' and the number of books sold are {}.\".format(genre,sold))"
      ],
      "metadata": {
        "colab": {
          "base_uri": "https://localhost:8080/"
        },
        "id": "es0j1tGZeqNZ",
        "outputId": "90c5e96a-1027-4b94-b44b-4b343ee05e05"
      },
      "execution_count": null,
      "outputs": [
        {
          "output_type": "stream",
          "name": "stdout",
          "text": [
            "The highest selling book genre is 'mystery' and the number of books sold are 15.\n"
          ]
        }
      ]
    },
    {
      "cell_type": "code",
      "source": [
        "#task 10\n",
        "given_dict = {'sci fi': 12, 'mystery': 15, \n",
        "              'horror': 8, 'mythology': 10, \n",
        "              'young_adult': 4, 'adventure':17}\n",
        "max= given_dict['sci fi']\n",
        "#new_dict={}\n",
        "for key,value in given_dict.items():\n",
        "    if value>max:\n",
        "        max=sold=value\n",
        "        genre=key\n",
        "\n",
        "print(\"The highest selling book genre is '{}' and the number of books sold are {}.\".format(genre,sold))"
      ],
      "metadata": {
        "colab": {
          "base_uri": "https://localhost:8080/"
        },
        "id": "A1kDIEop7orC",
        "outputId": "c4f21a35-a3cc-47b7-a688-ff40b522b7e8"
      },
      "execution_count": null,
      "outputs": [
        {
          "output_type": "stream",
          "name": "stdout",
          "text": [
            "The highest selling book genre is 'adventure' and the number of books sold are 17.\n"
          ]
        }
      ]
    },
    {
      "cell_type": "markdown",
      "source": [
        "Task 11: Write a Python program that takes a String as an input from the user and counts the frequency\n",
        "of each character using a dictionary. For solving this problem, you may use each character as a\n",
        "key and its frequency as values. [You are not allowed to use the count() function]\n",
        "Hint: You can create a new dictionary to store the frequencies. You may ignore case for\n",
        "simplicity (i.e. may consider P and p to be the same)."
      ],
      "metadata": {
        "id": "D_Ijul47u9at"
      }
    },
    {
      "cell_type": "code",
      "source": [
        "#task 11\n",
        "str_input=\"Python programming is fun\"\n",
        "freq_dict={}\n",
        "for iterate in str_input:\n",
        "    if iterate==\" \":\n",
        "        pass\n",
        "    elif iterate in freq_dict:\n",
        "        freq_dict[iterate]+=1\n",
        "    else: \n",
        "        freq_dict[iterate]=1 \n",
        "    \n",
        "print(freq_dict)  "
      ],
      "metadata": {
        "colab": {
          "base_uri": "https://localhost:8080/"
        },
        "id": "SVxOtWVQpjaU",
        "outputId": "02fc4bc6-930f-4ec0-bd77-7758decf73d3"
      },
      "execution_count": null,
      "outputs": [
        {
          "output_type": "stream",
          "name": "stdout",
          "text": [
            "{'P': 1, 'y': 1, 't': 1, 'h': 1, 'o': 1, 'n': 8, 'p': 1, 'r': 1, 'g': 1, 'a': 1, 'm': 1, 'i': 1, 's': 1, 'f': 1, 'u': 1}\n"
          ]
        }
      ]
    },
    {
      "cell_type": "markdown",
      "source": [
        "Task 12: Suppose you are given the following dictionary where the values are lists.\n",
        "dict_1 = {'A': [1, 2, 3], 'b': ['1', '2'], \"c\": [4, 5, 6, 7]}\n",
        "Write a Python program that counts the total number of items in a dictionary’s values and prints\n",
        "it.\n",
        "[Without using sum(), len(), count() functions]\n",
        "Note: Make changes to the above dictionary and see if your code works properly for other\n",
        "dictionaries as well."
      ],
      "metadata": {
        "id": "ThABY5T6vB-4"
      }
    },
    {
      "cell_type": "code",
      "source": [
        "#task 12\n",
        "dict_1 = {'A': [1, 2, 3,5,6], 'b': ['1','3' ,'2'], \"c\": [4, 5, 6, 7]}\n",
        "counter=0\n",
        "new_dict={}\n",
        "for key,value in dict_1.items():\n",
        "    for iterate in value:\n",
        "        counter+=1\n",
        "print(counter)"
      ],
      "metadata": {
        "colab": {
          "base_uri": "https://localhost:8080/"
        },
        "id": "gWFusV1tutR6",
        "outputId": "9004ca34-595f-48fa-9bb8-73a00b9385ea"
      },
      "execution_count": null,
      "outputs": [
        {
          "output_type": "stream",
          "name": "stdout",
          "text": [
            "12\n"
          ]
        }
      ]
    },
    {
      "cell_type": "markdown",
      "source": [
        "task 13: Suppose you have been given the following list of tuples.\n",
        "list_1 = [(\"a\", 1), (\"b\", 2), (\"a\", 3), (\"b\", 1), (\"a\", 2), (\"c\", 1)]\n",
        "Write a Python program that converts this list of tuples into a dictionary and then prints the\n",
        "dictionary.\n",
        "[You are not allowed to use set]\n",
        "Hint: Think of membership operators (in and not in)."
      ],
      "metadata": {
        "id": "U1-i-RLbvHZQ"
      }
    },
    {
      "cell_type": "code",
      "source": [
        "#task 13\n",
        "list_1 = [(\"a\", 1), (\"b\", 2), (\"a\", 3), (\"b\", 1), (\"a\", 2), (\"c\", 1)]\n",
        "for iterate1 in range(len(list_1)):\n",
        "    list_1[iterate1]=list(list_1[iterate1])\n",
        "for iterate2 in range(len(list_1)):\n",
        "    if list_1[iterate1][0]==list_1[iterate2][0]:\n",
        "            print(\"111\")\n",
        "            #list_1[iterate1][0]=list_1[iterate1][0].append(list_1[iterate2][iterate1])\n",
        "\n",
        "\n",
        "print(list_1)"
      ],
      "metadata": {
        "colab": {
          "base_uri": "https://localhost:8080/"
        },
        "id": "Zi45xIWvv8JL",
        "outputId": "016b3baf-4889-4166-e7dd-c6d32ee279b7"
      },
      "execution_count": null,
      "outputs": [
        {
          "output_type": "stream",
          "name": "stdout",
          "text": [
            "111\n",
            "[['a', 1], ['b', 2], ['a', 3], ['b', 1], ['a', 2], ['c', 1]]\n"
          ]
        }
      ]
    },
    {
      "cell_type": "code",
      "source": [
        "#task 13\n",
        "list_1 = [(\"a\", 1), (\"b\", 2), (\"a\", 3), (\"b\", 1), (\"a\", 2), (\"c\", 1)]\n",
        "final_dict = {}\n",
        "for iterate0, iterate1 in list_1:\n",
        "    if iterate0 in final_dict:\n",
        "        final_dict[iterate0].append(iterate1)\n",
        "    else:\n",
        "        final_dict[iterate0] = [iterate1]\n",
        "\n",
        "print(final_dict)"
      ],
      "metadata": {
        "colab": {
          "base_uri": "https://localhost:8080/"
        },
        "id": "Y1VZvM0FQhRA",
        "outputId": "7e26a15a-37b3-4f5e-b6df-afc318997e8c"
      },
      "execution_count": null,
      "outputs": [
        {
          "output_type": "stream",
          "name": "stdout",
          "text": [
            "{'a': [1, 3, 2], 'b': [2, 1], 'c': [1]}\n"
          ]
        }
      ]
    },
    {
      "cell_type": "code",
      "source": [
        "#task 14\n",
        "dict1 = {'a':59 , 'b':-82 , 'c':5 , 'd':-81 , 'e':53}\n",
        "for i in dict1:\n",
        "    j = 0\n",
        "    k = 22\n",
        "    while j < 5:\n",
        "        if j % 2 == 0:\n",
        "            k = dict1[i] + j - (8 + k % 6) / 3\n",
        "            print(\"k = dict1[{}] + j({}) - (8 + k % 6) / 3 ==> k({})\".format(i,j,k))\n",
        "            dict1[i] = dict1[i]+ int(k)\n",
        "            print(\"new dict[{}] ==> {}\".format(i,dict1[i]))\n",
        "        else:\n",
        "            k = dict1[i] + j - (6 - k % 8) * 3\n",
        "            print(\"k = dict1[{}] + j({}) - (6 - k % 8) * 3 ==> k({})\".format(i,j,k))\n",
        "            dict1[i] = dict1[i] - int(k)\n",
        "            print(\"new dict[{}] ==> {}\".format(i,dict1[i]))\n",
        "        j += 1\n",
        "    print(\"output to show: \")\n",
        "    print(int(k))\n",
        "    print(i + \" -> \" + str(dict1[i]))\n",
        "    print(\"=========================================================================================\")"
      ],
      "metadata": {
        "colab": {
          "base_uri": "https://localhost:8080/"
        },
        "id": "jV0H0dwULkW4",
        "outputId": "0da1f007-0def-44c6-fe65-c912716df895"
      },
      "execution_count": null,
      "outputs": [
        {
          "output_type": "stream",
          "name": "stdout",
          "text": [
            "k = dict1[a] + j(0) - (8 + k % 6) / 3 ==> k(55.0)\n",
            "new dict[a] ==> 114\n",
            "k = dict1[a] + j(1) - (6 - k % 8) * 3 ==> k(118.0)\n",
            "new dict[a] ==> -4\n",
            "k = dict1[a] + j(2) - (8 + k % 6) / 3 ==> k(-6.0)\n",
            "new dict[a] ==> -10\n",
            "k = dict1[a] + j(3) - (6 - k % 8) * 3 ==> k(-19.0)\n",
            "new dict[a] ==> 9\n",
            "k = dict1[a] + j(4) - (8 + k % 6) / 3 ==> k(8.666666666666668)\n",
            "new dict[a] ==> 17\n",
            "output to show: \n",
            "8\n",
            "a -> 17\n",
            "=========================================================================================\n",
            "k = dict1[b] + j(0) - (8 + k % 6) / 3 ==> k(-86.0)\n",
            "new dict[b] ==> -168\n",
            "k = dict1[b] + j(1) - (6 - k % 8) * 3 ==> k(-179.0)\n",
            "new dict[b] ==> 11\n",
            "k = dict1[b] + j(2) - (8 + k % 6) / 3 ==> k(10.0)\n",
            "new dict[b] ==> 21\n",
            "k = dict1[b] + j(3) - (6 - k % 8) * 3 ==> k(12.0)\n",
            "new dict[b] ==> 9\n",
            "k = dict1[b] + j(4) - (8 + k % 6) / 3 ==> k(10.333333333333334)\n",
            "new dict[b] ==> 19\n",
            "output to show: \n",
            "10\n",
            "b -> 19\n",
            "=========================================================================================\n",
            "k = dict1[c] + j(0) - (8 + k % 6) / 3 ==> k(1.0)\n",
            "new dict[c] ==> 6\n",
            "k = dict1[c] + j(1) - (6 - k % 8) * 3 ==> k(-8.0)\n",
            "new dict[c] ==> 14\n",
            "k = dict1[c] + j(2) - (8 + k % 6) / 3 ==> k(12.0)\n",
            "new dict[c] ==> 26\n",
            "k = dict1[c] + j(3) - (6 - k % 8) * 3 ==> k(23.0)\n",
            "new dict[c] ==> 3\n",
            "k = dict1[c] + j(4) - (8 + k % 6) / 3 ==> k(2.666666666666667)\n",
            "new dict[c] ==> 5\n",
            "output to show: \n",
            "2\n",
            "c -> 5\n",
            "=========================================================================================\n",
            "k = dict1[d] + j(0) - (8 + k % 6) / 3 ==> k(-85.0)\n",
            "new dict[d] ==> -166\n",
            "k = dict1[d] + j(1) - (6 - k % 8) * 3 ==> k(-174.0)\n",
            "new dict[d] ==> 8\n",
            "k = dict1[d] + j(2) - (8 + k % 6) / 3 ==> k(7.333333333333334)\n",
            "new dict[d] ==> 15\n",
            "k = dict1[d] + j(3) - (6 - k % 8) * 3 ==> k(22.0)\n",
            "new dict[d] ==> -7\n",
            "k = dict1[d] + j(4) - (8 + k % 6) / 3 ==> k(-7.0)\n",
            "new dict[d] ==> -14\n",
            "output to show: \n",
            "-7\n",
            "d -> -14\n",
            "=========================================================================================\n",
            "k = dict1[e] + j(0) - (8 + k % 6) / 3 ==> k(49.0)\n",
            "new dict[e] ==> 102\n",
            "k = dict1[e] + j(1) - (6 - k % 8) * 3 ==> k(88.0)\n",
            "new dict[e] ==> 14\n",
            "k = dict1[e] + j(2) - (8 + k % 6) / 3 ==> k(12.0)\n",
            "new dict[e] ==> 26\n",
            "k = dict1[e] + j(3) - (6 - k % 8) * 3 ==> k(23.0)\n",
            "new dict[e] ==> 3\n",
            "k = dict1[e] + j(4) - (8 + k % 6) / 3 ==> k(2.666666666666667)\n",
            "new dict[e] ==> 5\n",
            "output to show: \n",
            "2\n",
            "e -> 5\n",
            "=========================================================================================\n"
          ]
        }
      ]
    },
    {
      "cell_type": "code",
      "source": [
        "5+int(5.0)"
      ],
      "metadata": {
        "colab": {
          "base_uri": "https://localhost:8080/"
        },
        "id": "xqVHIsmk9Z6i",
        "outputId": "d26f5dcc-9343-4c76-ca02-f0f60c83f292"
      },
      "execution_count": null,
      "outputs": [
        {
          "output_type": "execute_result",
          "data": {
            "text/plain": [
              "10"
            ]
          },
          "metadata": {},
          "execution_count": 18
        }
      ]
    },
    {
      "cell_type": "code",
      "source": [
        "-19%6"
      ],
      "metadata": {
        "colab": {
          "base_uri": "https://localhost:8080/"
        },
        "id": "fn_gjWXw0og5",
        "outputId": "7c96c2c6-4696-4a2b-be2e-40e9e2177d50"
      },
      "execution_count": null,
      "outputs": [
        {
          "output_type": "execute_result",
          "data": {
            "text/plain": [
              "5"
            ]
          },
          "metadata": {},
          "execution_count": 19
        }
      ]
    }
  ]
}