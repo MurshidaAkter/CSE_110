{
  "nbformat": 4,
  "nbformat_minor": 0,
  "metadata": {
    "colab": {
      "provenance": [],
      "authorship_tag": "ABX9TyNNvQKY8v8nPEAcRIy1Octq",
      "include_colab_link": true
    },
    "kernelspec": {
      "name": "python3",
      "display_name": "Python 3"
    },
    "language_info": {
      "name": "python"
    }
  },
  "cells": [
    {
      "cell_type": "markdown",
      "metadata": {
        "id": "view-in-github",
        "colab_type": "text"
      },
      "source": [
        "<a href=\"https://colab.research.google.com/github/MurshidaAkter/CSE_110/blob/main/Lab_2_cse110.ipynb\" target=\"_parent\"><img src=\"https://colab.research.google.com/assets/colab-badge.svg\" alt=\"Open In Colab\"/></a>"
      ]
    },
    {
      "cell_type": "markdown",
      "source": [
        "Task 1: Write the python programs, which prints the following sequences of values in loops:\n",
        "a) 24, 18, 12, 6, 0, -6\n",
        "b) -10, -5, 0, 5, 10, 15, 20\n",
        "c) 18, 27, 36, 45, 54, 63\n",
        "d) 18, -27, 36, -45, 54, -63"
      ],
      "metadata": {
        "id": "kjsJpvf_oP35"
      }
    },
    {
      "cell_type": "code",
      "execution_count": null,
      "metadata": {
        "colab": {
          "base_uri": "https://localhost:8080/"
        },
        "id": "kCYQqtjZRhsL",
        "outputId": "878f5380-8c5c-41ad-bbec-21ffe4967860"
      },
      "outputs": [
        {
          "output_type": "stream",
          "name": "stdout",
          "text": [
            "24, 18, 12, 6, 0, -6"
          ]
        }
      ],
      "source": [
        "#task 1 a)\n",
        "counter = 24\n",
        "while counter >= -6:\n",
        "  if counter == -6:\n",
        "    print(counter, end = \"\")\n",
        "  else:\n",
        "    print(counter, end = \", \")\n",
        "  counter -= 6"
      ]
    },
    {
      "cell_type": "code",
      "source": [
        "#task 1 a) \n",
        "for counter in range(24,-6-1,-6):\n",
        "  if counter == -6:\n",
        "    print(counter, end = \"\")\n",
        "  else:\n",
        "    print(counter, end = \", \")\n"
      ],
      "metadata": {
        "colab": {
          "base_uri": "https://localhost:8080/"
        },
        "id": "-Yq2OJA6ZDBo",
        "outputId": "7d428335-dd11-472e-d589-8ac3ccc5e22c"
      },
      "execution_count": null,
      "outputs": [
        {
          "output_type": "stream",
          "name": "stdout",
          "text": [
            "24, 18, 12, 6, 0, -6"
          ]
        }
      ]
    },
    {
      "cell_type": "code",
      "execution_count": null,
      "metadata": {
        "colab": {
          "base_uri": "https://localhost:8080/"
        },
        "outputId": "6d6e3619-3888-4f8f-95ac-c86202e60a1e",
        "id": "zos4Ut5BThfs"
      },
      "outputs": [
        {
          "output_type": "stream",
          "name": "stdout",
          "text": [
            "-10, -5, 0, 5, 10, 15, 20"
          ]
        }
      ],
      "source": [
        "#task 1 b)\n",
        "counter = -10\n",
        "while counter <= 20:\n",
        "  if counter == 20:\n",
        "    print(counter, end = \"\")\n",
        "  else:\n",
        "    print(counter, end = \", \")\n",
        "  counter = counter + 5"
      ]
    },
    {
      "cell_type": "code",
      "execution_count": null,
      "metadata": {
        "colab": {
          "base_uri": "https://localhost:8080/"
        },
        "outputId": "a11cedc8-8135-4e3a-bad3-8febf95555be",
        "id": "EAZ4qWX5UPzK"
      },
      "outputs": [
        {
          "output_type": "stream",
          "name": "stdout",
          "text": [
            "18, 27, 36, 45, 54, 63"
          ]
        }
      ],
      "source": [
        "#task 1 c)\n",
        "counter = 18\n",
        "while counter <= 63:\n",
        "  if counter == 63:\n",
        "    print(counter, end = \"\")\n",
        "  else:\n",
        "    print(counter, end = \", \")\n",
        "  counter += 9"
      ]
    },
    {
      "cell_type": "code",
      "execution_count": null,
      "metadata": {
        "colab": {
          "base_uri": "https://localhost:8080/"
        },
        "outputId": "063c934d-cda5-4ceb-d62d-6ce826e37b51",
        "id": "1p8pw77cUlsg"
      },
      "outputs": [
        {
          "output_type": "stream",
          "name": "stdout",
          "text": [
            "18, -27, 36, -45, 54, - 63"
          ]
        }
      ],
      "source": [
        "#task 1 d)\n",
        "counter = 18\n",
        "c=0\n",
        "while counter <= 63:\n",
        "  c+=1\n",
        "  if counter == 63:\n",
        "    print(\"-\",counter, end = \"\")\n",
        "  elif counter < 63:\n",
        "     if c%2==0:\n",
        "       print(\"-\"+str(counter), end = \", \")\n",
        "     else:\n",
        "       print(counter, end = \", \")\n",
        "  counter +=9"
      ]
    },
    {
      "cell_type": "code",
      "source": [
        "#task 1 d)\n",
        "c=0\n",
        "for count in range(18,63+1,9):\n",
        "  c+=1\n",
        "  if count == 63:\n",
        "    print(\"-\"+str(count), end = \"\")\n",
        "  elif count < 63:\n",
        "     if c%2==0:\n",
        "       print(\"-\"+str(count), end = \", \")\n",
        "     else:\n",
        "       print(count, end = \", \")"
      ],
      "metadata": {
        "colab": {
          "base_uri": "https://localhost:8080/"
        },
        "id": "3OZJ2BBmaWxf",
        "outputId": "e83f35a8-85d3-400d-c332-3b6aacc98d68"
      },
      "execution_count": null,
      "outputs": [
        {
          "output_type": "stream",
          "name": "stdout",
          "text": [
            "18, -27, 36, -45, 54, -63"
          ]
        }
      ]
    },
    {
      "cell_type": "markdown",
      "source": [
        "Task 2: Write a Python code for the following:\n",
        "1) Ask the user to enter the name of his favorite car.\n",
        "2) Ask the user to enter a Number\n",
        "Display the name of the user’s favorite car, the number of times specified in the second step."
      ],
      "metadata": {
        "id": "_vf0Huf7onEH"
      }
    },
    {
      "cell_type": "code",
      "source": [
        "#task 2\n",
        "car = input('enter the name of your favorite car: ')\n",
        "limit = int(input('enter a Number: '))\n",
        "\n",
        "counter=1\n",
        "while counter <= limit:\n",
        "  print(car)\n",
        "  counter += 1"
      ],
      "metadata": {
        "colab": {
          "base_uri": "https://localhost:8080/"
        },
        "id": "cTMPxT53Y31N",
        "outputId": "d81a1e53-8b2e-4963-d06c-a028f345c350"
      },
      "execution_count": null,
      "outputs": [
        {
          "output_type": "stream",
          "name": "stdout",
          "text": [
            "enter the name of your favorite car: h\n",
            "enter a Number: 4\n",
            "h\n",
            "h\n",
            "h\n",
            "h\n"
          ]
        }
      ]
    },
    {
      "cell_type": "markdown",
      "source": [
        "Task 3: Write the Python code of a program that adds all numbers that are multiples of both 7 and 9 up to\n",
        "600 (including 600) i.e. 63, 126, 189, 252, ....\n",
        "The output of your program should be: 2835\n",
        "since 63 + 126 + 189 + 252 + 315 + 378 + 441 + 504 + 567 = 2835"
      ],
      "metadata": {
        "id": "dYT79phEoxkX"
      }
    },
    {
      "cell_type": "code",
      "source": [
        "#task 3\n",
        "counter = 1\n",
        "sum=0\n",
        "while counter <= 600:\n",
        "  if counter % 7== 0 and counter % 9== 0 :\n",
        "    sum+=counter\n",
        "  counter += 1\n",
        "\n",
        "print(sum)"
      ],
      "metadata": {
        "colab": {
          "base_uri": "https://localhost:8080/"
        },
        "id": "4ntEomOMcBre",
        "outputId": "8e4922ff-65d7-4b78-c2a0-0cccbf0d60d6"
      },
      "execution_count": null,
      "outputs": [
        {
          "output_type": "stream",
          "name": "stdout",
          "text": [
            "2835\n"
          ]
        }
      ]
    },
    {
      "cell_type": "markdown",
      "source": [
        "Task 4: Write a Python code of a program that adds all numbers that are multiples of either 7 or 9 but not\n",
        "both, up to 600 (including 600) i.e. 7, 9, 14, 18, 21..... and so on but not the numbers 63, 126,\n",
        "189..... which are multiples of both 7 and 9.\n",
        "The output of your program should be: 39814"
      ],
      "metadata": {
        "id": "kYivpOTIo4WP"
      }
    },
    {
      "cell_type": "code",
      "source": [
        "#task 4\n",
        "counter = 1\n",
        "sum=0\n",
        "while counter <= 600:\n",
        "  if counter % 7== 0 and counter % 9== 0 :\n",
        "    pass \n",
        "  elif counter % 7== 0 or counter % 9== 0 :\n",
        "    sum=sum+counter\n",
        "  counter += 1\n",
        "\n",
        "print(sum)"
      ],
      "metadata": {
        "id": "QkQ5BBRSeOIc",
        "colab": {
          "base_uri": "https://localhost:8080/"
        },
        "outputId": "2a9e2c1a-7b06-416c-ff57-e04840f04503"
      },
      "execution_count": null,
      "outputs": [
        {
          "output_type": "stream",
          "name": "stdout",
          "text": [
            "42649\n"
          ]
        }
      ]
    },
    {
      "cell_type": "markdown",
      "source": [
        "Task 5: Write the Python code of a program that displays all the odd numbers between 10 and 50\n",
        "(inclusive).\n",
        "Output: 11 13 15 17 19 21 23 25 27 29 31 33 35 37 39 41 43 45 47 49"
      ],
      "metadata": {
        "id": "wJ36qdE4o-Sg"
      }
    },
    {
      "cell_type": "code",
      "source": [
        "#task 5\n",
        "counter = 10\n",
        "while counter <= 50:\n",
        "  if counter % 2!=0:\n",
        "    if counter == 50:\n",
        "      print(counter, end = \"\")\n",
        "    else:\n",
        "        print(counter, end = \", \")\n",
        "  counter +=1"
      ],
      "metadata": {
        "colab": {
          "base_uri": "https://localhost:8080/"
        },
        "id": "SFQVqOpSflYi",
        "outputId": "e5caa649-5cf5-4745-e88e-14c816bd3fb9"
      },
      "execution_count": null,
      "outputs": [
        {
          "output_type": "stream",
          "name": "stdout",
          "text": [
            "11, 13, 15, 17, 19, 21, 23, 25, 27, 29, 31, 33, 35, 37, 39, 41, 43, 45, 47, 49, "
          ]
        }
      ]
    },
    {
      "cell_type": "markdown",
      "source": [
        "Task 6: Write a Python code that will calculate the value of y if the expression of y is as follows (n is the\n",
        "input):\n",
        "y=12−22+32−42+52\n",
        ".........+n2"
      ],
      "metadata": {
        "id": "o4QMAEN9pCvh"
      }
    },
    {
      "cell_type": "code",
      "source": [
        "#task 6\n",
        "n = int(input('enter a Number: '))\n",
        "counter = 1\n",
        "y=0\n",
        "while counter <= n:\n",
        "  if counter % 2== 0 :\n",
        "    y = y - (counter**2)\n",
        "  else:\n",
        "    y = y + (counter**2)\n",
        "  counter += 1\n",
        "\n",
        "print(y)"
      ],
      "metadata": {
        "colab": {
          "base_uri": "https://localhost:8080/"
        },
        "id": "-C1J2xhxhDiL",
        "outputId": "150a2d2d-45e5-465f-a32b-c26c7e7fd822"
      },
      "execution_count": null,
      "outputs": [
        {
          "output_type": "stream",
          "name": "stdout",
          "text": [
            "enter a Number: 20\n",
            "-210\n"
          ]
        }
      ]
    },
    {
      "cell_type": "markdown",
      "source": [
        "Task 7: Write a Python code of a program that asks the user to enter ten numbers and then display the total\n",
        "and the average of ONLY the odd numbers among those ten numbers."
      ],
      "metadata": {
        "id": "806HJT0lpK83"
      }
    },
    {
      "cell_type": "code",
      "source": [
        "#task 7\n",
        "counter = 1\n",
        "sum=0\n",
        "pos=0\n",
        "\n",
        "while counter <= 10:\n",
        "  n = int(input('enter a Number: '))\n",
        "  if n % 2!= 0 :\n",
        "    sum=sum+n\n",
        "    pos+=1\n",
        "  counter += 1\n",
        "\n",
        "print(\"The total of the odd numbers is\", sum ,\"and their average is\", sum/pos)"
      ],
      "metadata": {
        "colab": {
          "base_uri": "https://localhost:8080/"
        },
        "id": "R8A88rA0mg6Q",
        "outputId": "001dfeab-1a1e-4f61-fde5-6b937a099d28"
      },
      "execution_count": null,
      "outputs": [
        {
          "output_type": "stream",
          "name": "stdout",
          "text": [
            "enter a Number: -20\n",
            "enter a Number: 13\n",
            "enter a Number: -5\n",
            "enter a Number: 40\n",
            "enter a Number: -17\n",
            "enter a Number: 10\n",
            "enter a Number: 20\n",
            "enter a Number: -8\n",
            "enter a Number: 99\n",
            "enter a Number: -200\n",
            "The total of the odd numbers is 90 and their average is 22.5\n"
          ]
        }
      ]
    },
    {
      "cell_type": "markdown",
      "source": [
        "Task 8:Write a Python code for the following:\n",
        "• Ask the user to enter a Number, N\n",
        "• Display the summation of multiples of 7 up to that number (from 1 to N inclusive)"
      ],
      "metadata": {
        "id": "IIT2uK_kpSpv"
      }
    },
    {
      "cell_type": "code",
      "source": [
        "#task 8\n",
        "n = int(input('enter a Number: '))\n",
        "counter = 1\n",
        "sum=0\n",
        "while counter <= n:\n",
        "  if counter % 7== 0 :\n",
        "    sum=sum+counter\n",
        "  counter += 1\n",
        "\n",
        "print(sum)"
      ],
      "metadata": {
        "colab": {
          "base_uri": "https://localhost:8080/"
        },
        "id": "-kh73WDToi5q",
        "outputId": "1fbf8302-a4b8-40fa-b65a-03b893f1d555"
      },
      "execution_count": null,
      "outputs": [
        {
          "output_type": "stream",
          "name": "stdout",
          "text": [
            "enter a Number: 75\n",
            "385\n"
          ]
        }
      ]
    },
    {
      "cell_type": "markdown",
      "source": [
        "Task 9: Write a Python code that will read 5 numbers from the user. Your program should print the first\n",
        "number, the sum of the first 2 numbers, the sum of the first 3 numbers, and so on up to the sum of\n",
        "5 numbers."
      ],
      "metadata": {
        "id": "T3m9ruEKpYCA"
      }
    },
    {
      "cell_type": "code",
      "source": [
        "#task 9\n",
        "counter = 1\n",
        "sum=0\n",
        "pos=0\n",
        "\n",
        "while counter <= 5:\n",
        "  n = int(input('enter a Number: '))\n",
        "  sum=sum+n\n",
        "  print(sum)\n",
        "  counter += 1"
      ],
      "metadata": {
        "colab": {
          "base_uri": "https://localhost:8080/"
        },
        "id": "YK8j06edp18H",
        "outputId": "42796d89-f9e1-4c8c-b2cf-6940e088ddbc"
      },
      "execution_count": null,
      "outputs": [
        {
          "output_type": "stream",
          "name": "stdout",
          "text": [
            "enter a Number: 1\n",
            "1\n",
            "enter a Number: 2\n",
            "3\n",
            "enter a Number: 3\n",
            "6\n",
            "enter a Number: 4\n",
            "10\n",
            "enter a Number: 5\n",
            "15\n"
          ]
        }
      ]
    },
    {
      "cell_type": "markdown",
      "source": [
        "Task 10: Write a Python program which takes a number and prints the digits from the unit place, then the\n",
        "tenth, then hundredth, etc. (Right to Left)"
      ],
      "metadata": {
        "id": "zJuGj1yqpb8p"
      }
    },
    {
      "cell_type": "code",
      "source": [
        "#task 10\n",
        "n = int(input('enter a Number: '))\n",
        "rem=0\n",
        "while n!=0:\n",
        "  rem= n % 10\n",
        "  print(rem)\n",
        "  n=n//10"
      ],
      "metadata": {
        "id": "9ZV4LBlcEAMU",
        "colab": {
          "base_uri": "https://localhost:8080/"
        },
        "outputId": "52504479-44a5-430d-b8fd-ec7d03869df2"
      },
      "execution_count": null,
      "outputs": [
        {
          "output_type": "stream",
          "name": "stdout",
          "text": [
            "enter a Number: 1200\n",
            "0\n",
            "0\n",
            "2\n",
            "1\n"
          ]
        }
      ]
    },
    {
      "cell_type": "markdown",
      "source": [
        "Task 11: Write a Python program that takes a number and prints how many digits are in that number.\n",
        "[Consider the input number to be an INTEGER.]\n",
        "[You are not allowed to use len() function]"
      ],
      "metadata": {
        "id": "YORRVrKSpg7R"
      }
    },
    {
      "cell_type": "code",
      "source": [
        "#task 11\n",
        "n = int(input('enter a Number: '))\n",
        "rem=0\n",
        "c=0\n",
        "while n!=0:\n",
        "  rem= n % 10\n",
        "  n=n//10\n",
        "  c+=1\n",
        "print(c)"
      ],
      "metadata": {
        "colab": {
          "base_uri": "https://localhost:8080/"
        },
        "id": "n4UIwGdPtSN6",
        "outputId": "6b5c5126-3abe-4e7e-a31d-2c3174611014"
      },
      "execution_count": null,
      "outputs": [
        {
          "output_type": "stream",
          "name": "stdout",
          "text": [
            "enter a Number: 78664\n",
            "5\n"
          ]
        }
      ]
    },
    {
      "cell_type": "markdown",
      "source": [
        "Task 12: Write a Python program that takes a number from the user and prints its digits from left to right.\n",
        "[Consider the input number to be an INTEGER. You are not allowed to use String indexing for\n",
        "solving this task]\n",
        "Example: if the user gives 32768, then print 3, 2, 7, 6, 8"
      ],
      "metadata": {
        "id": "eMNwaTGQplVn"
      }
    },
    {
      "cell_type": "code",
      "source": [
        "#task 12\n",
        "n = div =int(input('enter a Number: '))\n",
        "c=0\n",
        "counter=1\n",
        "while n!=0:\n",
        "  rem= n % 10\n",
        "  n=n//10\n",
        "  c+=1\n",
        "\n",
        "divisor=10**(c-1)\n",
        "\n",
        "while counter<=c:\n",
        "  result=div//divisor\n",
        "  print(result)\n",
        "  div= div % divisor\n",
        "  #print(rem)\n",
        "  divisor=divisor//10\n",
        "  counter+=1"
      ],
      "metadata": {
        "id": "KY07o9A-wuXo",
        "colab": {
          "base_uri": "https://localhost:8080/"
        },
        "outputId": "0c7c1561-517f-4e5e-fa8b-ef41f60a3817"
      },
      "execution_count": null,
      "outputs": [
        {
          "output_type": "stream",
          "name": "stdout",
          "text": [
            "enter a Number: 32976\n",
            "3\n",
            "2\n",
            "9\n",
            "7\n",
            "6\n"
          ]
        }
      ]
    },
    {
      "cell_type": "markdown",
      "source": [
        "Task 13: Write a Python program that takes a number as input from the user and prints the divisors of that\n",
        "number as well as how many divisors the number has."
      ],
      "metadata": {
        "id": "-4bKwBB-ppsj"
      }
    },
    {
      "cell_type": "code",
      "source": [
        "#task 13\n",
        "n = int(input('enter a Number: '))\n",
        "counter = 1\n",
        "sum=0\n",
        "while counter <= n:\n",
        "  if n % counter== 0 :\n",
        "    if counter == n:\n",
        "      print(counter, end = \"\")\n",
        "    else:\n",
        "      print(counter, end = \",\")\n",
        "  counter += 1\n"
      ],
      "metadata": {
        "colab": {
          "base_uri": "https://localhost:8080/"
        },
        "id": "sVgwGWlTJljD",
        "outputId": "413c8931-4cdb-407b-b234-4245ee88eb29"
      },
      "execution_count": null,
      "outputs": [
        {
          "output_type": "stream",
          "name": "stdout",
          "text": [
            "enter a Number: 121\n",
            "1,11,121"
          ]
        }
      ]
    },
    {
      "cell_type": "markdown",
      "source": [
        "Task 14: Write a Python program that takes a number as input from the user and tells if it is a perfect number\n",
        "or not.\n",
        "Perfect Number: An integer number is said to be a perfect number if its factors, including 1 but\n",
        "not the number itself, sum to the number."
      ],
      "metadata": {
        "id": "zAFRyKNbpv7i"
      }
    },
    {
      "cell_type": "code",
      "source": [
        "#task 14\n",
        "n = int(input('enter a Number: '))\n",
        "counter = 1\n",
        "sum=0\n",
        "while counter <= n:\n",
        "  if n % counter== 0 :\n",
        "    sum=sum+counter\n",
        "  counter += 1\n",
        "if (sum-n)==n:\n",
        "  print(n,\"is a perfect number\")\n",
        "\n",
        "else: print(n,\"is not a perfect number\")"
      ],
      "metadata": {
        "id": "gysoNN7xRBfV",
        "colab": {
          "base_uri": "https://localhost:8080/"
        },
        "outputId": "658a3b8b-b7b2-4e92-859a-469324d9d5e1"
      },
      "execution_count": null,
      "outputs": [
        {
          "output_type": "stream",
          "name": "stdout",
          "text": [
            "enter a Number: 28\n",
            "28 is a perfect number\n"
          ]
        }
      ]
    },
    {
      "cell_type": "markdown",
      "source": [
        "Task 15: Write a Python program that asks the user for one number and tells if it is a prime number or not.\n",
        "Prime Number: If a number has only two divisors, (1 and itself), then it is a prime number. If it\n",
        "is divisible by more numbers, then it is not a prime.\n",
        "Hint: You may use the code for counting divisors from Task 14."
      ],
      "metadata": {
        "id": "YTpBnoGmp0jC"
      }
    },
    {
      "cell_type": "code",
      "source": [
        "#task 15\n",
        "n = int(input('enter a Number: '))\n",
        "counter = 1\n",
        "sum=0\n",
        "while counter <= n:\n",
        "  if n % counter== 0 :\n",
        "    sum+=1\n",
        "  counter += 1\n",
        "  \n",
        "if sum==2:\n",
        "  print(n,\"is a prime number\")\n",
        "else: print(n,\"is not a prime number\")"
      ],
      "metadata": {
        "colab": {
          "base_uri": "https://localhost:8080/"
        },
        "id": "UcFjZErwOz0E",
        "outputId": "b47b66b6-ecd3-48d4-bedf-0aa346b198b2"
      },
      "execution_count": null,
      "outputs": [
        {
          "output_type": "stream",
          "name": "stdout",
          "text": [
            "enter a Number: 11\n",
            "2\n",
            "11 is a prime number\n"
          ]
        }
      ]
    },
    {
      "cell_type": "markdown",
      "source": [
        "Task 16: Write a Python program that asks the user for a quantity, then takes that many numbers as input\n",
        "and prints the maximum, minimum and average of those numbers.\n",
        "[Please note that you CANNOT use max, min built-in functions]\n",
        "[Also, you DO NOT need to use lists for this task]"
      ],
      "metadata": {
        "id": "7iyEoMtGp4Iq"
      }
    },
    {
      "cell_type": "code",
      "source": [
        "#task 16\n",
        "quantity = int(input('Please enter the quantity of number: '))\n",
        "num1 = int(input('Please enter number_1: '))\n",
        "max=min=num1\n",
        "counter=2\n",
        "sum=num1\n",
        "while counter <= quantity:\n",
        "  num = int(input('Please enter number_'+str(counter)+' : '))\n",
        "  sum=sum+num\n",
        "\n",
        "  if num<min: \n",
        "    min=num  \n",
        "    \n",
        "  elif num>max:\n",
        "    max=num\n",
        "    \n",
        "  counter+=1\n",
        "\n",
        "print('Maximum',max)\n",
        "print('Minimum',min)\n",
        "      \n",
        "print(\"Average is\",sum/quantity)"
      ],
      "metadata": {
        "colab": {
          "base_uri": "https://localhost:8080/"
        },
        "id": "qHpE0sXg2xE-",
        "outputId": "eae007e2-1438-40af-82d7-f147881e5601"
      },
      "execution_count": null,
      "outputs": [
        {
          "output_type": "stream",
          "name": "stdout",
          "text": [
            "Please enter the quantity of number: 5\n",
            "Please enter number_1: 4\n",
            "Please enter number_2 : 3\n",
            "Please enter number_3 : 2\n",
            "Please enter number_4 : 1\n",
            "Please enter number_5 : 9\n",
            "Maximum 9\n",
            "Minimum 1\n",
            "Average is 3.8\n"
          ]
        }
      ]
    },
    {
      "cell_type": "markdown",
      "source": [
        "Text 17: Write a python program that prints a square of size N using + where N will be given as input as\n",
        "illustrated in the examples below.\n",
        "Hint: You may need to use nested loops to solve this problem."
      ],
      "metadata": {
        "id": "_1P-LzR0p8ZZ"
      }
    },
    {
      "cell_type": "code",
      "source": [
        "#task 17 (with WHILE loop)\n",
        "quantity = int(input('Please enter the quantity of number: '))\n",
        "Q_count=1\n",
        "while Q_count <= quantity:\n",
        "  count=1\n",
        "  while count <= quantity: \n",
        "    print(\"+\",end=\" \")\n",
        "    count+=1\n",
        "  print()\n",
        "  Q_count+=1"
      ],
      "metadata": {
        "colab": {
          "base_uri": "https://localhost:8080/"
        },
        "id": "pwiExYWGHvMQ",
        "outputId": "2d1f5d53-609a-4004-f985-ba0ff0aa0e9a"
      },
      "execution_count": null,
      "outputs": [
        {
          "output_type": "stream",
          "name": "stdout",
          "text": [
            "Please enter the quantity of number: 5\n",
            "+ + + + + \n",
            "+ + + + + \n",
            "+ + + + + \n",
            "+ + + + + \n",
            "+ + + + + \n"
          ]
        }
      ]
    },
    {
      "cell_type": "code",
      "source": [
        "#task 17 (with FOR loop)\n",
        "limit=int(input(\"Enter Limit: \"))\n",
        "for count in range(0,limit):\n",
        "  for count1 in range(0,limit):\n",
        "    print(\"+\",end=\" \")\n",
        "  print()"
      ],
      "metadata": {
        "colab": {
          "base_uri": "https://localhost:8080/"
        },
        "id": "vzTNYvhtSTE6",
        "outputId": "a8811cdc-ffa1-4200-d62a-6cd9ef4f7240"
      },
      "execution_count": null,
      "outputs": [
        {
          "output_type": "stream",
          "name": "stdout",
          "text": [
            "Enter Limit: 10\n",
            "+ + + + + + + + + + \n",
            "+ + + + + + + + + + \n",
            "+ + + + + + + + + + \n",
            "+ + + + + + + + + + \n",
            "+ + + + + + + + + + \n",
            "+ + + + + + + + + + \n",
            "+ + + + + + + + + + \n",
            "+ + + + + + + + + + \n",
            "+ + + + + + + + + + \n",
            "+ + + + + + + + + + \n"
          ]
        }
      ]
    },
    {
      "cell_type": "markdown",
      "source": [
        "Text 18: Write a python program that prints a rectangle of size M (height/line numbers) and N\n",
        "(length/column numbers) using incrementing numbers where M and N will be given as input.\n",
        "Please look at the examples below for clarification.\n",
        "Hint: You may need to use nested loops and print the loop counter variable in one of the loops."
      ],
      "metadata": {
        "id": "8oab_cWdqBex"
      }
    },
    {
      "cell_type": "code",
      "source": [
        "#Task 18\n",
        "limit=int(input(\"Enter Limit: \"))\n",
        "for count in range(0,limit):\n",
        "  for count1 in range(1,limit+1):\n",
        "    print(count1,end=\" \")\n",
        "  print()"
      ],
      "metadata": {
        "colab": {
          "base_uri": "https://localhost:8080/"
        },
        "id": "h6Cmz0yIS_eK",
        "outputId": "c020a0cb-1dca-4625-9411-40947fd04831"
      },
      "execution_count": null,
      "outputs": [
        {
          "output_type": "stream",
          "name": "stdout",
          "text": [
            "Enter Limit: 5\n",
            "1 2 3 4 5 \n",
            "1 2 3 4 5 \n",
            "1 2 3 4 5 \n",
            "1 2 3 4 5 \n",
            "1 2 3 4 5 \n"
          ]
        }
      ]
    },
    {
      "cell_type": "markdown",
      "source": [
        "Task 19: Write a python program that prints a right-angled triangle of height N using incrementing numbers\n",
        "where N will be given as input."
      ],
      "metadata": {
        "id": "bvbAMRt6qLoM"
      }
    },
    {
      "cell_type": "code",
      "source": [
        "#task 19 \n",
        "limit=int(input(\"Enter Limit: \"))\n",
        "for count in range(1,limit+1):\n",
        "  for count1 in range(1,count+1):\n",
        "    print(count1,end=\" \")\n",
        "  print()"
      ],
      "metadata": {
        "colab": {
          "base_uri": "https://localhost:8080/"
        },
        "id": "mlopmFKKTrNa",
        "outputId": "5e3e19b5-3550-465c-befb-89a93bfceb54"
      },
      "execution_count": null,
      "outputs": [
        {
          "output_type": "stream",
          "name": "stdout",
          "text": [
            "Enter Limit: 5\n",
            "1 \n",
            "1 2 \n",
            "1 2 3 \n",
            "1 2 3 4 \n",
            "1 2 3 4 5 \n"
          ]
        }
      ]
    },
    {
      "cell_type": "markdown",
      "source": [
        "Tracing"
      ],
      "metadata": {
        "id": "Vl1rJW_CqQch"
      }
    },
    {
      "cell_type": "code",
      "source": [
        "#task 20\n",
        "x = 0\n",
        "p =0\n",
        "sum = 0\n",
        "p = 1\n",
        "x = 2\n",
        "q = None\n",
        "sum = 0\n",
        "while p < 12:\n",
        "  q = x + p - (sum + 7 / 3) / 3.0 % 2\n",
        "  sum = sum + x + int(q)\n",
        "  x += 1\n",
        "  print(sum)\n",
        "  if x > 5:\n",
        "    p += 4 / 2\n",
        "  else:\n",
        "    p += (3 % 1)\n",
        "sum = int(sum + p)\n",
        "print(sum)"
      ],
      "metadata": {
        "colab": {
          "base_uri": "https://localhost:8080/"
        },
        "id": "B2dnGu-FcIRs",
        "outputId": "081ad883-31fa-4621-bae6-342dc8e7762f"
      },
      "execution_count": null,
      "outputs": [
        {
          "output_type": "stream",
          "name": "stdout",
          "text": [
            "4\n",
            "10\n",
            "18\n",
            "28\n",
            "42\n",
            "60\n",
            "82\n",
            "108\n",
            "138\n",
            "151\n"
          ]
        }
      ]
    },
    {
      "cell_type": "code",
      "source": [
        "2.667%3"
      ],
      "metadata": {
        "colab": {
          "base_uri": "https://localhost:8080/"
        },
        "id": "GfdWNU-VXDUc",
        "outputId": "097c09fc-0b73-4e8f-b354-ddd0baa6e002"
      },
      "execution_count": null,
      "outputs": [
        {
          "output_type": "execute_result",
          "data": {
            "text/plain": [
              "2.667"
            ]
          },
          "metadata": {},
          "execution_count": 6
        }
      ]
    },
    {
      "cell_type": "code",
      "source": [
        "#task 21\n",
        "x = 0\n",
        "p = 0\n",
        "sum = 0\n",
        "p = 1\n",
        "x = 2\n",
        "q = 0.0\n",
        "sum = 0\n",
        "while (p < 10) :\n",
        "  q = x + p - (sum + int(5 / 3)) / 3.0 % 2\n",
        "  sum = sum + x + int(q)\n",
        "  x += 1\n",
        "  print(sum)\n",
        "  if (x > 5) :\n",
        "    p += int(4 / 2)\n",
        "  else :\n",
        "      p += 3 % 1\n",
        "sum = sum + p\n",
        "print(sum)"
      ],
      "metadata": {
        "colab": {
          "base_uri": "https://localhost:8080/"
        },
        "id": "s42qi5vyZnWk",
        "outputId": "1528c405-6447-48ad-cdc8-6327637e7f8e"
      },
      "execution_count": null,
      "outputs": [
        {
          "output_type": "stream",
          "name": "stdout",
          "text": [
            "4\n",
            "9\n",
            "16\n",
            "25\n",
            "39\n",
            "56\n",
            "78\n",
            "104\n",
            "115\n"
          ]
        }
      ]
    },
    {
      "cell_type": "code",
      "source": [
        "#task 22\n",
        "x = y = 0\n",
        "sum = 0\n",
        "while (x < 10):\n",
        "  y = x - 3\n",
        "  while (y < 3):\n",
        "    sum = x - y * 2\n",
        "    print(sum)\n",
        "    y = y + 1\n",
        "  if (x > 7):\n",
        "      x += 1\n",
        "  else:\n",
        "      x += 3\n",
        "sum = x - y * 2\n",
        "print(sum)"
      ],
      "metadata": {
        "id": "2AbWxLJOZIQy",
        "colab": {
          "base_uri": "https://localhost:8080/"
        },
        "outputId": "3cf0aa0c-8efb-48c7-a202-e6793b81bb0c"
      },
      "execution_count": null,
      "outputs": [
        {
          "output_type": "stream",
          "name": "stdout",
          "text": [
            "6\n",
            "4\n",
            "2\n",
            "0\n",
            "-2\n",
            "-4\n",
            "3\n",
            "1\n",
            "-1\n",
            "-2\n"
          ]
        }
      ]
    },
    {
      "cell_type": "code",
      "source": [
        "#task 23\n",
        "x = 0\n",
        "y = 0\n",
        "sum = 0\n",
        "p = 0.0\n",
        "while (x < 10):\n",
        "  y = x // 2\n",
        "  while (y < x):\n",
        "    p = (x + 10.0) / 2\n",
        "    sum = (sum % 2) + x - y * 2 + int(p)\n",
        "    print(sum)\n",
        "    y = y + 2\n",
        "  if (x > 5):\n",
        "    x += 1\n",
        "  else:\n",
        "    x += 2"
      ],
      "metadata": {
        "colab": {
          "base_uri": "https://localhost:8080/"
        },
        "id": "cpJ6f6TzXl6M",
        "outputId": "ad6260e6-a0f7-4b7d-9dd0-6e22f465fc4b"
      },
      "execution_count": null,
      "outputs": [
        {
          "output_type": "stream",
          "name": "stdout",
          "text": [
            "6\n",
            "7\n",
            "9\n",
            "5\n",
            "10\n",
            "5\n",
            "10\n",
            "5\n",
            "11\n",
            "7\n",
            "3\n"
          ]
        }
      ]
    },
    {
      "cell_type": "code",
      "source": [
        "print( (2 + 10.0) / 2)"
      ],
      "metadata": {
        "colab": {
          "base_uri": "https://localhost:8080/"
        },
        "id": "hkQ-ZZSHaPyX",
        "outputId": "9aef644e-1772-49dc-90e6-c6445d14ddb6"
      },
      "execution_count": null,
      "outputs": [
        {
          "output_type": "stream",
          "name": "stdout",
          "text": [
            "6.0\n"
          ]
        }
      ]
    },
    {
      "cell_type": "code",
      "source": [
        "#task 24\n",
        "test = 1\n",
        "j = 0\n",
        "k = 100\n",
        "while (k > 0):\n",
        "  while ( j < k ):\n",
        "    test = k + j -21\n",
        "    print( str(1 + int (test / 2)) + \"32\")\n",
        "    j += 10\n",
        "  k -= 10\n",
        "test = 1\n",
        "j = 0\n",
        "k = 100"
      ],
      "metadata": {
        "colab": {
          "base_uri": "https://localhost:8080/"
        },
        "id": "LVhNxxxXP4-V",
        "outputId": "f3cf6f26-2203-47f6-8c42-c947cf2c45e1"
      },
      "execution_count": null,
      "outputs": [
        {
          "output_type": "stream",
          "name": "stdout",
          "text": [
            "4032\n",
            "4532\n",
            "5032\n",
            "5532\n",
            "6032\n",
            "6532\n",
            "7032\n",
            "7532\n",
            "8032\n",
            "8532\n"
          ]
        }
      ]
    }
  ]
}