{
  "cells": [
    {
      "cell_type": "markdown",
      "metadata": {
        "id": "view-in-github",
        "colab_type": "text"
      },
      "source": [
        "<a href=\"https://colab.research.google.com/github/MurshidaAkter/CSE_110/blob/main/Lab_4_CSE110.ipynb\" target=\"_parent\"><img src=\"https://colab.research.google.com/assets/colab-badge.svg\" alt=\"Open In Colab\"/></a>"
      ]
    },
    {
      "cell_type": "markdown",
      "source": [
        "Task 1: Write a Python program that reads 5 numbers from the user into a list. After reading each\n",
        "number, print all the numbers that have been entered so far in the list.\n",
        "Example:\n",
        "If the user enters 3, prints “Numbers in the list: [3]”\n",
        "If the user enters 5 next, prints “Numbers in the list: [3, 5]”\n",
        "If the user enters 34, prints “Numbers in the list: [3, 5, 34]”\n",
        "If the user then enters -11, prints “Numbers in the list: [3, 5, 34, -11]”\n",
        "Finally, if the user enters 0 as the last number, prints “Numbers in the list: [3, 5, 34, -11, 0]”"
      ],
      "metadata": {
        "id": "gPqCKro06Nzo"
      }
    },
    {
      "cell_type": "code",
      "source": [
        "#task 1\n",
        "a_list=[]\n",
        "#limit=int(input())\n",
        "\n",
        "for iterate in range(5):\n",
        "  inputs=int(input(\"Enter number: \"))\n",
        "  a_list.append(inputs)\n",
        "  print(a_list)"
      ],
      "metadata": {
        "colab": {
          "base_uri": "https://localhost:8080/"
        },
        "id": "SCn--qxOZ2x-",
        "outputId": "50b9b8a9-a7c8-4012-bede-414471361592"
      },
      "execution_count": null,
      "outputs": [
        {
          "output_type": "stream",
          "name": "stdout",
          "text": [
            "Enter number: 7\n",
            "[7]\n",
            "Enter number: 10\n",
            "[7, 10]\n",
            "Enter number: 45\n",
            "[7, 10, 45]\n",
            "Enter number: 32\n",
            "[7, 10, 45, 32]\n",
            "Enter number: 00099\n",
            "[7, 10, 45, 32, 99]\n"
          ]
        }
      ]
    },
    {
      "cell_type": "markdown",
      "source": [
        "Task 2: Write a Python program that takes a list as an input from the user, then creates a new list\n",
        "excluding the first and last two elements of the given list and prints the new list. If there are not\n",
        "enough elements in the list to do the task, print \"Not possible\"."
      ],
      "metadata": {
        "id": "7JOitAZO6tsG"
      }
    },
    {
      "cell_type": "code",
      "source": [
        "#task 2\n",
        "a_list=[]\n",
        "limit=int(input(\"enter limit:\"))\n",
        "if limit>3:\n",
        "    for iterate in range(limit):\n",
        "          inputs=int(input(\"enter numbers: \"))\n",
        "          a_list.append(inputs)\n",
        "    print(a_list[2:limit-2])\n",
        "    \n",
        "else: print(\"Not possible\")"
      ],
      "metadata": {
        "colab": {
          "base_uri": "https://localhost:8080/"
        },
        "id": "GRmp5RH5cXl8",
        "outputId": "afdf9787-9667-466f-8c60-a6a0475f5c3f"
      },
      "execution_count": null,
      "outputs": [
        {
          "output_type": "stream",
          "name": "stdout",
          "text": [
            "enter limit:4\n",
            "enter numbers in list: 4\n",
            "enter numbers in list: 5\n",
            "enter numbers in list: 6\n",
            "enter numbers in list: 7\n",
            "[]\n"
          ]
        }
      ]
    },
    {
      "cell_type": "markdown",
      "source": [
        "Task 3: Write a python program that reads 5 numbers from the user into a list, and then prints them in the\n",
        "reverse order."
      ],
      "metadata": {
        "id": "69oZlO3w6xmG"
      }
    },
    {
      "cell_type": "code",
      "source": [
        "#task 3\n",
        "a_list=[]\n",
        "for i in range(5):\n",
        "  inputs=int(input())\n",
        "  a_list.append(inputs)\n",
        "print(\"Input data: \",a_list)\n",
        "print(\"Printing values from the list in reverse order:\")\n",
        "for i in range(5):\n",
        "  print(a_list[(5-1)-i])"
      ],
      "metadata": {
        "colab": {
          "base_uri": "https://localhost:8080/"
        },
        "id": "H3e74kQff168",
        "outputId": "f52d4704-8558-4c1b-944d-02debb54c7ed"
      },
      "execution_count": 1,
      "outputs": [
        {
          "output_type": "stream",
          "name": "stdout",
          "text": [
            "2\n",
            "3\n",
            "4\n",
            "5\n",
            "6\n",
            "Input data:  [2, 3, 4, 5, 6]\n",
            "Printing values from the list in reverse order:\n",
            "6\n",
            "5\n",
            "4\n",
            "3\n",
            "2\n"
          ]
        }
      ]
    },
    {
      "cell_type": "markdown",
      "source": [
        "Task 4: Write a Python program that turns every item of a list into its square. [Your program should\n",
        "work for any lists; make changes to the lists below and check whether your program works\n",
        "correctly]"
      ],
      "metadata": {
        "id": "dhspKEQv7Z62"
      }
    },
    {
      "cell_type": "code",
      "source": [
        "#task 4\n",
        "a_list=[]\n",
        "b_list=[]\n",
        "limit=int(input(\"enter range of list:\"))\n",
        "for i in range(limit):\n",
        "  inputs=int(input(\"enter values: \"))\n",
        "  a_list.append(inputs)\n",
        "\n",
        "for i in range(limit):\n",
        "  b_list.append(a_list[i]**2)\n",
        "print(b_list)"
      ],
      "metadata": {
        "colab": {
          "base_uri": "https://localhost:8080/"
        },
        "id": "Px0hQgeRhmPX",
        "outputId": "cfc4f67a-4302-45ee-a900-34e6e875190f"
      },
      "execution_count": null,
      "outputs": [
        {
          "output_type": "stream",
          "name": "stdout",
          "text": [
            "enter range of list:3\n",
            "enter values: 1\n",
            "enter values: 2\n",
            "enter values: 3\n",
            "[1, 4, 9]\n"
          ]
        }
      ]
    },
    {
      "cell_type": "markdown",
      "source": [
        "Task 5: Write a Python program that removes all Empty strings from a given list and prints the modified\n",
        "list. [Your program should work for any given list; make changes to the list below and check\n",
        "whether your program works correctly]"
      ],
      "metadata": {
        "id": "5AfuD2-p7tKe"
      }
    },
    {
      "cell_type": "code",
      "source": [
        "#task 5\n",
        "a_list=[\"hey\", \"there\", \"\", \"what's\", \"\", \"up\", \"\", \"?\"]\n",
        "print(\"Original List: \",a_list)\n",
        "b_list=[]\n",
        "\n",
        "for i in range(len(a_list)):\n",
        "  if len(a_list[i])!=0:\n",
        "    b_list.append(a_list[i])\n",
        "  else:\n",
        "    pass\n",
        "print(\"Modified List: \",b_list)"
      ],
      "metadata": {
        "colab": {
          "base_uri": "https://localhost:8080/"
        },
        "id": "o5pLJtn7jP1y",
        "outputId": "a92f9517-d0c6-48dd-8c4c-3ae88d3f7edf"
      },
      "execution_count": null,
      "outputs": [
        {
          "output_type": "stream",
          "name": "stdout",
          "text": [
            "Original List:  ['hey', 'there', '', \"what's\", '', 'up', '', '?']\n",
            "Modified List:  ['hey', 'there', \"what's\", 'up', '?']\n"
          ]
        }
      ]
    },
    {
      "cell_type": "markdown",
      "source": [
        "Task 6: Write a Python program that reads a string containing 7 numbers separated by commas, then\n",
        "makes a list of those numbers and prints the largest number and its location or index position in\n",
        "the list. [You are not allowed to use the max(), sort(), sorted() function here]"
      ],
      "metadata": {
        "id": "zvKdrKOb7yZO"
      }
    },
    {
      "cell_type": "code",
      "source": [
        "#task 6\n",
        "given=\"7, 13, 2, 10, 6, -11, 0\"\n",
        "new_string=given.split(\", \")\n",
        "new_list=[]\n",
        "for num in new_string:\n",
        "    new_list.append(int(num))\n",
        "print(\"My list:\",new_list)\n",
        "length=len(new_list)\n",
        "\n",
        "max=new_list[0]\n",
        "index=0\n",
        "for iterate in range(length):\n",
        "    if max<new_list[iterate]:\n",
        "        max=new_list[iterate]\n",
        "        index=iterate\n",
        "print(\"Largest number in the list is\", max ,\"which was found at index \",index,\".\") "
      ],
      "metadata": {
        "colab": {
          "base_uri": "https://localhost:8080/"
        },
        "id": "XOE_MIyZnWGV",
        "outputId": "ee4931e3-0caa-406e-c29b-67f4b5852d72"
      },
      "execution_count": null,
      "outputs": [
        {
          "output_type": "stream",
          "name": "stdout",
          "text": [
            "My list: [7, 13, 2, 10, 6, -11, 0]\n",
            "Largest number in the list is 13 which was found at index  1 .\n"
          ]
        }
      ]
    },
    {
      "cell_type": "markdown",
      "source": [
        "Task 7: Suppose you have been given two lists. Write a Python program that replaces the last element of\n",
        "the first list with the second list. [Your program should work for any two given lists; make\n",
        "changes to the lists below and check whether your program works correctly]"
      ],
      "metadata": {
        "id": "_EEBx2Qm8Bho"
      }
    },
    {
      "cell_type": "code",
      "source": [
        "#task 7\n",
        "List_one = [1, 3, 5, 7, 9, 10]\n",
        "List_two = [2, 4, 6, 8]\n",
        "new_list=[]\n",
        "\n",
        "length1=len(List_one)\n",
        "length2=len(List_two)\n",
        "\n",
        "for iterate1 in range(length1):\n",
        "    if iterate1==length1-1:\n",
        "        for iterate2 in range(length2):\n",
        "            new_list.append(List_two[iterate2])\n",
        "    else: new_list.append(List_one[iterate1])\n",
        "    \n",
        "print(new_list)"
      ],
      "metadata": {
        "id": "4AdWV6ZT2WP0",
        "colab": {
          "base_uri": "https://localhost:8080/"
        },
        "outputId": "cfad111e-2f8d-483e-c9f3-79f7a1f7ba71"
      },
      "execution_count": null,
      "outputs": [
        {
          "output_type": "stream",
          "name": "stdout",
          "text": [
            "[1, 3, 5, 7, 9, 2, 4, 6, 8]\n"
          ]
        }
      ]
    },
    {
      "cell_type": "code",
      "source": [
        "Task 8: Assume, you have been given two lists. [Your program should work for any two given lists;\n",
        "change the following lists and check whether your program works correctly for the code you\n",
        "have written]\n",
        "list_one = [1, 2, 3, 4, 5, 6, 7, 8, 9]\n",
        "list_two = [10, 11, 12, -13, -14, -15, -16]\n",
        "Write a Python program that creates a new list with all the even elements of both of the given\n",
        "lists and prints the new list."
      ],
      "metadata": {
        "id": "0ow7Et6P8GFe"
      },
      "execution_count": null,
      "outputs": []
    },
    {
      "cell_type": "code",
      "source": [
        "#task 8\n",
        "list_one = [1, 2, 3, 4, 5, 6, 7, 8, 9]\n",
        "list_two = [10, 11, 12, -13, -14, -15, -16]\n",
        "list3=list_one+list_two\n",
        "new_list=[]\n",
        "length3=len(list3)\n",
        "\n",
        "for iterate1 in range(length3):\n",
        "    if list3[iterate1]%2==0:\n",
        "        new_list.append(list3[iterate1])\n",
        "    \n",
        "print(new_list)"
      ],
      "metadata": {
        "colab": {
          "base_uri": "https://localhost:8080/"
        },
        "id": "A-HvCqzncMJJ",
        "outputId": "2f33425c-7ac7-4387-b84d-c579e4560961"
      },
      "execution_count": 2,
      "outputs": [
        {
          "output_type": "stream",
          "name": "stdout",
          "text": [
            "[2, 4, 6, 8, 10, 12, -14, -16]\n"
          ]
        }
      ]
    },
    {
      "cell_type": "code",
      "source": [
        "#rough\n",
        "list = []\n",
        "while True:\n",
        "    x = input(\"Enter numbers:\")\n",
        "    if x =='':\n",
        "        break\n",
        "    else:\n",
        "        list.append(int(x))\n",
        "print(list)"
      ],
      "metadata": {
        "colab": {
          "base_uri": "https://localhost:8080/"
        },
        "id": "MUCT6iaoYwKb",
        "outputId": "10e39d90-57bc-4e6a-a558-2296ee8c166e"
      },
      "execution_count": null,
      "outputs": [
        {
          "output_type": "stream",
          "name": "stdout",
          "text": [
            "Enter numbers:3\n",
            "Enter numbers:2\n",
            "Enter numbers:1\n",
            "Enter numbers:\n",
            "[3, 2, 1]\n"
          ]
        }
      ]
    },
    {
      "cell_type": "markdown",
      "source": [
        "Task 9: Write a Python program that reads a string as an input from the user where multiple numbers are\n",
        "separated by spaces. Then, make a list of numbers from the input string without using the split()\n",
        "function and print the list. Finally, remove all the occurrences of even numbers from the same\n",
        "input list and print the modified list."
      ],
      "metadata": {
        "id": "j30ogXe58PsP"
      }
    },
    {
      "cell_type": "code",
      "source": [
        "#task 9\n",
        "string='7 12 4 55 96 2 11 61 33 42'\n",
        "string=string+\" \"\n",
        "add=''\n",
        "original_list=[]\n",
        "modified_list=[]\n",
        "\n",
        "for iterate in string:\n",
        "    if iterate !=' ':\n",
        "        add+=iterate\n",
        "    else: \n",
        "        original_list.append(int(add))\n",
        "        add=''\n",
        "length=len(original_list)\n",
        "print(\"Original list:\",original_list)\n",
        "for num in range(length):\n",
        "    if original_list[num] % 2 != 0:\n",
        "        modified_list.append(original_list[num])\n",
        "\n",
        "print(\"Modified list:\",modified_list)"
      ],
      "metadata": {
        "colab": {
          "base_uri": "https://localhost:8080/"
        },
        "id": "i8yZJKcBtZc5",
        "outputId": "179351ba-eb7d-4ad8-e418-2464e2de0673"
      },
      "execution_count": null,
      "outputs": [
        {
          "output_type": "stream",
          "name": "stdout",
          "text": [
            "Original list: [7, 12, 4, 55, 96, 2, 11, 61, 33, 42]\n",
            "Modified list: [7, 55, 11, 61, 33]\n"
          ]
        }
      ]
    },
    {
      "cell_type": "markdown",
      "source": [
        "Task 10: Write a Python program that reads a string as an input from the user where multiple numbers are\n",
        "separated by commas. Then, make a list of numbers from the input string and print the list.\n",
        "Finally, remove multiple occurrences of any numbers from the input list and print the modified\n",
        "list without duplicate values."
      ],
      "metadata": {
        "id": "atcf52ot8TlO"
      }
    },
    {
      "cell_type": "code",
      "source": [
        "#task 10\n",
        "string='0, 0, 1, 2, 3, 4, 4, 5, 6, 6, 6, 7, 8, 9, 4, 4'\n",
        "string=string+\" \"\n",
        "add=''\n",
        "original_list=[]\n",
        "modified_list=[]\n",
        "\n",
        "for iterate in string:\n",
        "    if iterate !=',':\n",
        "        add+=iterate\n",
        "    else: \n",
        "        original_list.append(int(add))\n",
        "        add=''\n",
        "        \n",
        "length=len(original_list)\n",
        "print(\"Input list:\",original_list)\n",
        "\n",
        "for num in range(length):\n",
        "    if num<length-1:\n",
        "        if original_list[num] != original_list[num+1]:\n",
        "            modified_list.append(original_list[num])\n",
        "    else: modified_list.append(original_list[num]) \n",
        "print(\"Modified list:\",modified_list)"
      ],
      "metadata": {
        "colab": {
          "base_uri": "https://localhost:8080/"
        },
        "id": "XYU5JtRb5cIL",
        "outputId": "640bbc06-098e-4469-a25f-7bcaabc5fcf2"
      },
      "execution_count": null,
      "outputs": [
        {
          "output_type": "stream",
          "name": "stdout",
          "text": [
            "Input list: [0, 0, 1, 2, 3, 4, 4, 5, 6, 6, 6, 7, 8, 9, 4]\n",
            "Modified list: [0, 1, 2, 3, 4, 5, 6, 7, 8, 9, 4]\n"
          ]
        }
      ]
    },
    {
      "cell_type": "markdown",
      "source": [
        "Task 11: Assume, you have been given two lists: List_one and List_two. [Your program should work for\n",
        "any two given lists; change the following lists and check whether your program works correctly\n",
        "for the code you have written]\n",
        "Write a Python program that prints \"True\", if the given two lists have at least one common\n",
        "member. Otherwise, print \"False\"."
      ],
      "metadata": {
        "id": "bkhm59VQ8d2F"
      }
    },
    {
      "cell_type": "code",
      "source": [
        "#task 11\n",
        "List_one = [1, 3, 5, 7, 9, 10]\n",
        "List_two = [2, 4, 10, 8]\n",
        "counter=False\n",
        "\n",
        "for iterate1 in List_one:\n",
        "    for iterate2 in List_two:\n",
        "        if iterate1==iterate2:\n",
        "            counter=True\n",
        "    \n",
        "print(counter)"
      ],
      "metadata": {
        "colab": {
          "base_uri": "https://localhost:8080/"
        },
        "id": "V7d48fPFIZiX",
        "outputId": "c22ee3d3-43b1-403d-ae2a-5cd570de9c57"
      },
      "execution_count": null,
      "outputs": [
        {
          "output_type": "stream",
          "name": "stdout",
          "text": [
            "True\n"
          ]
        }
      ]
    },
    {
      "cell_type": "code",
      "source": [
        "#task 12\n",
        "myList = [0, 0, 0, 0, 0, 0, 0, 0, 0, 0]\n",
        "index1 = 0\n",
        "index2 = 0\n",
        "index1 = 1\n",
        "\n",
        "while(index1<10):\n",
        "  myList[index1] = index1+4\n",
        "  print(\"initially myList[\",index1,\"] is\",myList[index1])\n",
        "  index2 = 1\n",
        "  print(\"index2:\",index2)\n",
        "  while(index2<index1):\n",
        "    myList[index1] = myList[index1] + myList[index2]-index1\n",
        "    print(\"updated => myList[\",index1,\"] ==>\",myList[index1])\n",
        "    index2 = index2+1\n",
        "    print(\"new index2:\",index2)\n",
        "  print(\"Output:\",myList[index1])\n",
        "  index1 = index1+1\n",
        "  print(\"new index1:\",index1)\n",
        "  print(\"__________________________________________________________________________\")"
      ],
      "metadata": {
        "id": "yFmRN1cHbW5n",
        "colab": {
          "base_uri": "https://localhost:8080/"
        },
        "outputId": "ecfa2774-7e6f-46bf-8ada-6f549c625d00"
      },
      "execution_count": null,
      "outputs": [
        {
          "output_type": "stream",
          "name": "stdout",
          "text": [
            "initially myList[ 1 ] is 5\n",
            "index2: 1\n",
            "Output: 5\n",
            "new index1: 2\n",
            "__________________________________________________________________________\n",
            "initially myList[ 2 ] is 6\n",
            "index2: 1\n",
            "updated => myList[ 2 ] ==> 9\n",
            "new index2: 2\n",
            "Output: 9\n",
            "new index1: 3\n",
            "__________________________________________________________________________\n",
            "initially myList[ 3 ] is 7\n",
            "index2: 1\n",
            "updated => myList[ 3 ] ==> 9\n",
            "new index2: 2\n",
            "updated => myList[ 3 ] ==> 15\n",
            "new index2: 3\n",
            "Output: 15\n",
            "new index1: 4\n",
            "__________________________________________________________________________\n",
            "initially myList[ 4 ] is 8\n",
            "index2: 1\n",
            "updated => myList[ 4 ] ==> 9\n",
            "new index2: 2\n",
            "updated => myList[ 4 ] ==> 14\n",
            "new index2: 3\n",
            "updated => myList[ 4 ] ==> 25\n",
            "new index2: 4\n",
            "Output: 25\n",
            "new index1: 5\n",
            "__________________________________________________________________________\n",
            "initially myList[ 5 ] is 9\n",
            "index2: 1\n",
            "updated => myList[ 5 ] ==> 9\n",
            "new index2: 2\n",
            "updated => myList[ 5 ] ==> 13\n",
            "new index2: 3\n",
            "updated => myList[ 5 ] ==> 23\n",
            "new index2: 4\n",
            "updated => myList[ 5 ] ==> 43\n",
            "new index2: 5\n",
            "Output: 43\n",
            "new index1: 6\n",
            "__________________________________________________________________________\n",
            "initially myList[ 6 ] is 10\n",
            "index2: 1\n",
            "updated => myList[ 6 ] ==> 9\n",
            "new index2: 2\n",
            "updated => myList[ 6 ] ==> 12\n",
            "new index2: 3\n",
            "updated => myList[ 6 ] ==> 21\n",
            "new index2: 4\n",
            "updated => myList[ 6 ] ==> 40\n",
            "new index2: 5\n",
            "updated => myList[ 6 ] ==> 77\n",
            "new index2: 6\n",
            "Output: 77\n",
            "new index1: 7\n",
            "__________________________________________________________________________\n",
            "initially myList[ 7 ] is 11\n",
            "index2: 1\n",
            "updated => myList[ 7 ] ==> 9\n",
            "new index2: 2\n",
            "updated => myList[ 7 ] ==> 11\n",
            "new index2: 3\n",
            "updated => myList[ 7 ] ==> 19\n",
            "new index2: 4\n",
            "updated => myList[ 7 ] ==> 37\n",
            "new index2: 5\n",
            "updated => myList[ 7 ] ==> 73\n",
            "new index2: 6\n",
            "updated => myList[ 7 ] ==> 143\n",
            "new index2: 7\n",
            "Output: 143\n",
            "new index1: 8\n",
            "__________________________________________________________________________\n",
            "initially myList[ 8 ] is 12\n",
            "index2: 1\n",
            "updated => myList[ 8 ] ==> 9\n",
            "new index2: 2\n",
            "updated => myList[ 8 ] ==> 10\n",
            "new index2: 3\n",
            "updated => myList[ 8 ] ==> 17\n",
            "new index2: 4\n",
            "updated => myList[ 8 ] ==> 34\n",
            "new index2: 5\n",
            "updated => myList[ 8 ] ==> 69\n",
            "new index2: 6\n",
            "updated => myList[ 8 ] ==> 138\n",
            "new index2: 7\n",
            "updated => myList[ 8 ] ==> 273\n",
            "new index2: 8\n",
            "Output: 273\n",
            "new index1: 9\n",
            "__________________________________________________________________________\n",
            "initially myList[ 9 ] is 13\n",
            "index2: 1\n",
            "updated => myList[ 9 ] ==> 9\n",
            "new index2: 2\n",
            "updated => myList[ 9 ] ==> 9\n",
            "new index2: 3\n",
            "updated => myList[ 9 ] ==> 15\n",
            "new index2: 4\n",
            "updated => myList[ 9 ] ==> 31\n",
            "new index2: 5\n",
            "updated => myList[ 9 ] ==> 65\n",
            "new index2: 6\n",
            "updated => myList[ 9 ] ==> 133\n",
            "new index2: 7\n",
            "updated => myList[ 9 ] ==> 267\n",
            "new index2: 8\n",
            "updated => myList[ 9 ] ==> 531\n",
            "new index2: 9\n",
            "Output: 531\n",
            "new index1: 10\n",
            "__________________________________________________________________________\n"
          ]
        }
      ]
    },
    {
      "cell_type": "code",
      "source": [
        "#task 13\n",
        "myList = [0, 0, 0, 0, 0, 0, 0, 0, 0, 0]\n",
        "index1 = 0\n",
        "index2 = 0\n",
        "index1 = 1\n",
        "while (index1 < 10):\n",
        "  myList[index1] = index1 + 4\n",
        "  print(\"initially myList[\",index1,\"] is\",myList[index1])\n",
        "  index2 = 1\n",
        "  print(\"index2:\",index2)\n",
        "  while (index2 < index1):\n",
        "    myList[index1] = myList[index1-1] - myList[index2-1] - index1\n",
        "    print(\"updated => myList[\",index1,\"] ==>\",myList[index1])\n",
        "    index2 = index2 + 1\n",
        "    print(\"new index2:\",index2)\n",
        "  print(\"Output:\",myList[index1])\n",
        "  index1 = index1 + 1\n",
        "  print(\"new index1\",index1)\n",
        "  print(\"___________________________________________________________________________\")"
      ],
      "metadata": {
        "id": "gI2PD1MCcXac",
        "colab": {
          "base_uri": "https://localhost:8080/"
        },
        "outputId": "19577f9a-2d8a-47e5-a4c2-94d27749b4bd"
      },
      "execution_count": null,
      "outputs": [
        {
          "output_type": "stream",
          "name": "stdout",
          "text": [
            "initially myList[ 1 ] is 5\n",
            "index2: 1\n",
            "Output: 5\n",
            "new index1 2\n",
            "___________________________________________________________________________\n",
            "initially myList[ 2 ] is 6\n",
            "index2: 1\n",
            "updated => myList[ 2 ] ==> 3\n",
            "new index2: 2\n",
            "Output: 3\n",
            "new index1 3\n",
            "___________________________________________________________________________\n",
            "initially myList[ 3 ] is 7\n",
            "index2: 1\n",
            "updated => myList[ 3 ] ==> 0\n",
            "new index2: 2\n",
            "updated => myList[ 3 ] ==> -5\n",
            "new index2: 3\n",
            "Output: -5\n",
            "new index1 4\n",
            "___________________________________________________________________________\n",
            "initially myList[ 4 ] is 8\n",
            "index2: 1\n",
            "updated => myList[ 4 ] ==> -9\n",
            "new index2: 2\n",
            "updated => myList[ 4 ] ==> -14\n",
            "new index2: 3\n",
            "updated => myList[ 4 ] ==> -12\n",
            "new index2: 4\n",
            "Output: -12\n",
            "new index1 5\n",
            "___________________________________________________________________________\n",
            "initially myList[ 5 ] is 9\n",
            "index2: 1\n",
            "updated => myList[ 5 ] ==> -17\n",
            "new index2: 2\n",
            "updated => myList[ 5 ] ==> -22\n",
            "new index2: 3\n",
            "updated => myList[ 5 ] ==> -20\n",
            "new index2: 4\n",
            "updated => myList[ 5 ] ==> -12\n",
            "new index2: 5\n",
            "Output: -12\n",
            "new index1 6\n",
            "___________________________________________________________________________\n",
            "initially myList[ 6 ] is 10\n",
            "index2: 1\n",
            "updated => myList[ 6 ] ==> -18\n",
            "new index2: 2\n",
            "updated => myList[ 6 ] ==> -23\n",
            "new index2: 3\n",
            "updated => myList[ 6 ] ==> -21\n",
            "new index2: 4\n",
            "updated => myList[ 6 ] ==> -13\n",
            "new index2: 5\n",
            "updated => myList[ 6 ] ==> -6\n",
            "new index2: 6\n",
            "Output: -6\n",
            "new index1 7\n",
            "___________________________________________________________________________\n",
            "initially myList[ 7 ] is 11\n",
            "index2: 1\n",
            "updated => myList[ 7 ] ==> -13\n",
            "new index2: 2\n",
            "updated => myList[ 7 ] ==> -18\n",
            "new index2: 3\n",
            "updated => myList[ 7 ] ==> -16\n",
            "new index2: 4\n",
            "updated => myList[ 7 ] ==> -8\n",
            "new index2: 5\n",
            "updated => myList[ 7 ] ==> -1\n",
            "new index2: 6\n",
            "updated => myList[ 7 ] ==> -1\n",
            "new index2: 7\n",
            "Output: -1\n",
            "new index1 8\n",
            "___________________________________________________________________________\n",
            "initially myList[ 8 ] is 12\n",
            "index2: 1\n",
            "updated => myList[ 8 ] ==> -9\n",
            "new index2: 2\n",
            "updated => myList[ 8 ] ==> -14\n",
            "new index2: 3\n",
            "updated => myList[ 8 ] ==> -12\n",
            "new index2: 4\n",
            "updated => myList[ 8 ] ==> -4\n",
            "new index2: 5\n",
            "updated => myList[ 8 ] ==> 3\n",
            "new index2: 6\n",
            "updated => myList[ 8 ] ==> 3\n",
            "new index2: 7\n",
            "updated => myList[ 8 ] ==> -3\n",
            "new index2: 8\n",
            "Output: -3\n",
            "new index1 9\n",
            "___________________________________________________________________________\n",
            "initially myList[ 9 ] is 13\n",
            "index2: 1\n",
            "updated => myList[ 9 ] ==> -12\n",
            "new index2: 2\n",
            "updated => myList[ 9 ] ==> -17\n",
            "new index2: 3\n",
            "updated => myList[ 9 ] ==> -15\n",
            "new index2: 4\n",
            "updated => myList[ 9 ] ==> -7\n",
            "new index2: 5\n",
            "updated => myList[ 9 ] ==> 0\n",
            "new index2: 6\n",
            "updated => myList[ 9 ] ==> 0\n",
            "new index2: 7\n",
            "updated => myList[ 9 ] ==> -6\n",
            "new index2: 8\n",
            "updated => myList[ 9 ] ==> -11\n",
            "new index2: 9\n",
            "Output: -11\n",
            "new index1 10\n",
            "___________________________________________________________________________\n"
          ]
        }
      ]
    },
    {
      "cell_type": "code",
      "source": [
        "#task 14\n",
        "myList = [0, 0, 0, 0, 0, 0, 0, 0, 0, 0]\n",
        "b = []\n",
        "index1 = 0\n",
        "index2 = 0\n",
        "index1 = 1\n",
        "b = myList\n",
        "while(index1<10):\n",
        "    myList[index1] = index1+2\n",
        "    print(\"initially myList[\",index1,\"] is\",myList[index1])\n",
        "    index2 = 1\n",
        "    print(\"index2:\",index2)\n",
        "    while(index2<index1):\n",
        "        myList[index1] = b[index1]+myList[index2]-index1\n",
        "        print(\"updated => myList[\",index1,\"] ==>\",myList[index1])\n",
        "        index2 = index2+1\n",
        "        print(\"new index2:\",index2)\n",
        "    print(\"Output:\",myList[index1])\n",
        "    index1 = index1+1\n",
        "    print(\"new index1\",index1)\n",
        "    print(\"___________________________________________________________________________\")"
      ],
      "metadata": {
        "id": "hxTZJmCTmhWy",
        "outputId": "5036d27e-52cb-4dcd-d5b1-f8df6a861867",
        "colab": {
          "base_uri": "https://localhost:8080/"
        }
      },
      "execution_count": null,
      "outputs": [
        {
          "output_type": "stream",
          "name": "stdout",
          "text": [
            "initially myList[ 1 ] is 3\n",
            "index2: 1\n",
            "Output: 3\n",
            "new index1 2\n",
            "___________________________________________________________________________\n",
            "initially myList[ 2 ] is 4\n",
            "index2: 1\n",
            "updated => myList[ 2 ] ==> 5\n",
            "new index2: 2\n",
            "Output: 5\n",
            "new index1 3\n",
            "___________________________________________________________________________\n",
            "initially myList[ 3 ] is 5\n",
            "index2: 1\n",
            "updated => myList[ 3 ] ==> 5\n",
            "new index2: 2\n",
            "updated => myList[ 3 ] ==> 7\n",
            "new index2: 3\n",
            "Output: 7\n",
            "new index1 4\n",
            "___________________________________________________________________________\n",
            "initially myList[ 4 ] is 6\n",
            "index2: 1\n",
            "updated => myList[ 4 ] ==> 5\n",
            "new index2: 2\n",
            "updated => myList[ 4 ] ==> 6\n",
            "new index2: 3\n",
            "updated => myList[ 4 ] ==> 9\n",
            "new index2: 4\n",
            "Output: 9\n",
            "new index1 5\n",
            "___________________________________________________________________________\n",
            "initially myList[ 5 ] is 7\n",
            "index2: 1\n",
            "updated => myList[ 5 ] ==> 5\n",
            "new index2: 2\n",
            "updated => myList[ 5 ] ==> 5\n",
            "new index2: 3\n",
            "updated => myList[ 5 ] ==> 7\n",
            "new index2: 4\n",
            "updated => myList[ 5 ] ==> 11\n",
            "new index2: 5\n",
            "Output: 11\n",
            "new index1 6\n",
            "___________________________________________________________________________\n",
            "initially myList[ 6 ] is 8\n",
            "index2: 1\n",
            "updated => myList[ 6 ] ==> 5\n",
            "new index2: 2\n",
            "updated => myList[ 6 ] ==> 4\n",
            "new index2: 3\n",
            "updated => myList[ 6 ] ==> 5\n",
            "new index2: 4\n",
            "updated => myList[ 6 ] ==> 8\n",
            "new index2: 5\n",
            "updated => myList[ 6 ] ==> 13\n",
            "new index2: 6\n",
            "Output: 13\n",
            "new index1 7\n",
            "___________________________________________________________________________\n",
            "initially myList[ 7 ] is 9\n",
            "index2: 1\n",
            "updated => myList[ 7 ] ==> 5\n",
            "new index2: 2\n",
            "updated => myList[ 7 ] ==> 3\n",
            "new index2: 3\n",
            "updated => myList[ 7 ] ==> 3\n",
            "new index2: 4\n",
            "updated => myList[ 7 ] ==> 5\n",
            "new index2: 5\n",
            "updated => myList[ 7 ] ==> 9\n",
            "new index2: 6\n",
            "updated => myList[ 7 ] ==> 15\n",
            "new index2: 7\n",
            "Output: 15\n",
            "new index1 8\n",
            "___________________________________________________________________________\n",
            "initially myList[ 8 ] is 10\n",
            "index2: 1\n",
            "updated => myList[ 8 ] ==> 5\n",
            "new index2: 2\n",
            "updated => myList[ 8 ] ==> 2\n",
            "new index2: 3\n",
            "updated => myList[ 8 ] ==> 1\n",
            "new index2: 4\n",
            "updated => myList[ 8 ] ==> 2\n",
            "new index2: 5\n",
            "updated => myList[ 8 ] ==> 5\n",
            "new index2: 6\n",
            "updated => myList[ 8 ] ==> 10\n",
            "new index2: 7\n",
            "updated => myList[ 8 ] ==> 17\n",
            "new index2: 8\n",
            "Output: 17\n",
            "new index1 9\n",
            "___________________________________________________________________________\n",
            "initially myList[ 9 ] is 11\n",
            "index2: 1\n",
            "updated => myList[ 9 ] ==> 5\n",
            "new index2: 2\n",
            "updated => myList[ 9 ] ==> 1\n",
            "new index2: 3\n",
            "updated => myList[ 9 ] ==> -1\n",
            "new index2: 4\n",
            "updated => myList[ 9 ] ==> -1\n",
            "new index2: 5\n",
            "updated => myList[ 9 ] ==> 1\n",
            "new index2: 6\n",
            "updated => myList[ 9 ] ==> 5\n",
            "new index2: 7\n",
            "updated => myList[ 9 ] ==> 11\n",
            "new index2: 8\n",
            "updated => myList[ 9 ] ==> 19\n",
            "new index2: 9\n",
            "Output: 19\n",
            "new index1 10\n",
            "___________________________________________________________________________\n"
          ]
        }
      ]
    },
    {
      "cell_type": "code",
      "source": [
        "#task 15\n",
        "myList = [0, 0, 0, 0, 0, 0, 0, 0, 0, 0]\n",
        "b = []\n",
        "index1 = 0\n",
        "index2 = 0\n",
        "index1 = 1\n",
        "b = myList\n",
        "while (index1 < 10):\n",
        "    myList[index1] = index1 + 1\n",
        "    print(\"initially myList[\",index1,\"] is\",myList[index1])\n",
        "    index2 = 1\n",
        "    print(\"index2:\",index2)\n",
        "    while (index2 < index1):\n",
        "        myList[index1] = b[index2-1] + myList[index2] - index1\n",
        "        print(\"updated => myList[\",index1,\"] ==>\",myList[index1])\n",
        "        index2 = index2+1\n",
        "        print(\"new index2:\",index2)\n",
        "    print(\"Output:\",myList[index1])\n",
        "    index1 = index1+1\n",
        "    print(\"new index1\",index1)\n",
        "    print(\"___________________________________________________________________________\")"
      ],
      "metadata": {
        "id": "L1SPBImvnVCZ"
      },
      "execution_count": null,
      "outputs": []
    },
    {
      "cell_type": "code",
      "source": [
        "8.045%6"
      ],
      "metadata": {
        "colab": {
          "base_uri": "https://localhost:8080/"
        },
        "id": "3XlrDkl1VJhw",
        "outputId": "23480a16-6794-4710-8052-2df700e8bc46"
      },
      "execution_count": null,
      "outputs": [
        {
          "output_type": "execute_result",
          "data": {
            "text/plain": [
              "2.045"
            ]
          },
          "metadata": {},
          "execution_count": 22
        }
      ]
    }
  ],
  "metadata": {
    "colab": {
      "provenance": [],
      "authorship_tag": "ABX9TyMzVYkj0nIk3MGZFR9qPBP9",
      "include_colab_link": true
    },
    "kernelspec": {
      "display_name": "Python 3",
      "name": "python3"
    },
    "language_info": {
      "name": "python"
    }
  },
  "nbformat": 4,
  "nbformat_minor": 0
}