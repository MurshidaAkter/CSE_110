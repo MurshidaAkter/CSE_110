{
  "nbformat": 4,
  "nbformat_minor": 0,
  "metadata": {
    "colab": {
      "provenance": [],
      "authorship_tag": "ABX9TyPJ6B/nqI+vXfgYiLgREQgH",
      "include_colab_link": true
    },
    "kernelspec": {
      "name": "python3",
      "display_name": "Python 3"
    },
    "language_info": {
      "name": "python"
    }
  },
  "cells": [
    {
      "cell_type": "markdown",
      "metadata": {
        "id": "view-in-github",
        "colab_type": "text"
      },
      "source": [
        "<a href=\"https://colab.research.google.com/github/MurshidaAkter/CSE_110/blob/main/lab_6_cse110.ipynb\" target=\"_parent\"><img src=\"https://colab.research.google.com/assets/colab-badge.svg\" alt=\"Open In Colab\"/></a>"
      ]
    },
    {
      "cell_type": "code",
      "source": [
        "#task 1\n",
        "def even_checker(number):\n",
        "    if number%2==0:\n",
        "        print(\"Even!!\")\n",
        "    else: print(\"Odd!!\")\n",
        "even_checker(5)"
      ],
      "metadata": {
        "colab": {
          "base_uri": "https://localhost:8080/"
        },
        "id": "bK7tZZINoQJP",
        "outputId": "16124ee7-8de1-4063-9432-afedc905549c"
      },
      "execution_count": null,
      "outputs": [
        {
          "output_type": "stream",
          "name": "stdout",
          "text": [
            "Odd!!\n"
          ]
        }
      ]
    },
    {
      "cell_type": "code",
      "source": [
        "#task 2\n",
        "def fibonacci(limit):\n",
        "    temp1 = 0\n",
        "    temp2 = 1\n",
        "    add=\"0\"\n",
        "   \n",
        "    if limit == 0:\n",
        "        return 0\n",
        "       \n",
        "    elif limit == 1:\n",
        "        return temp2\n",
        "    else:\n",
        "        for i in range(1, limit):\n",
        "            c = temp1 + temp2\n",
        "            temp1 = temp2\n",
        "            if temp1<=limit:\n",
        "                add=add+\" \"+str(temp1) \n",
        "            temp2 = c\n",
        "        return add\n",
        "\n",
        "print(fibonacci(10))"
      ],
      "metadata": {
        "colab": {
          "base_uri": "https://localhost:8080/"
        },
        "id": "vHrEIX25pPs-",
        "outputId": "2466555f-3d96-4e5e-c3bf-7a1da70babd6"
      },
      "execution_count": null,
      "outputs": [
        {
          "output_type": "stream",
          "name": "stdout",
          "text": [
            "0 1 1 2 3 5 8\n"
          ]
        }
      ]
    },
    {
      "cell_type": "code",
      "source": [
        "#task 3\n",
        "def foo_moo(number):\n",
        "    if number%2==0 and number%3==0:\n",
        "        print(\"FooMoo\")\n",
        "    elif number%2==0:\n",
        "        print(\"Foo\")\n",
        "    elif number%3==0:\n",
        "        print(\"Moo\")\n",
        "    else: print(\"Boo\")\n",
        "\n",
        "number=int(input(\"Enter a number: \"))\n",
        "foo_moo(number)"
      ],
      "metadata": {
        "colab": {
          "base_uri": "https://localhost:8080/"
        },
        "id": "iV7tFKQ-9PUl",
        "outputId": "6e62986f-9db4-44db-e949-8b6c2cd7d2e7"
      },
      "execution_count": null,
      "outputs": [
        {
          "output_type": "stream",
          "name": "stdout",
          "text": [
            "Enter a number: 3\n",
            "Moo\n"
          ]
        }
      ]
    },
    {
      "cell_type": "code",
      "source": [
        "#task 4\n",
        "def case_checker(str_input):\n",
        "    upper=0\n",
        "    lower=0\n",
        "    for iterate in str_input:\n",
        "        if iterate==\" \":\n",
        "            pass\n",
        "        elif ord(iterate)>=65 and ord(iterate)<=90:\n",
        "            upper+=1\n",
        "        elif ord(iterate)>=97 and ord(iterate)<=122:\n",
        "            lower+=1\n",
        "    return(upper,lower)\n",
        "upper,lower=case_checker('HaRRy PotteR')\n",
        "print(\"No. of Uppercase characters :\",upper)\n",
        "print(\"No. of Lowercase Characters:\", lower)"
      ],
      "metadata": {
        "colab": {
          "base_uri": "https://localhost:8080/"
        },
        "id": "UfK46Jrr6Bef",
        "outputId": "fa2b656e-9589-432f-8b41-88c82d0513a7"
      },
      "execution_count": null,
      "outputs": [
        {
          "output_type": "stream",
          "name": "stdout",
          "text": [
            "No. of Uppercase characters : 5\n",
            "No. of Lowercase Characters: 6\n"
          ]
        }
      ]
    },
    {
      "cell_type": "code",
      "source": [
        "#task 5\n",
        "def calculate_tax(age, salary,current_job_designation):\n",
        "    if age<18:\n",
        "        return 0\n",
        "    elif salary<10000:\n",
        "        return 0\n",
        "    elif current_job_designation==\"president\" or current_job_designation==\"President\":\n",
        "        return 0\n",
        "    elif 10000<salary<20000:\n",
        "        return salary*0.05\n",
        "    elif salary>20000:\n",
        "        return salary*0.1\n",
        "age=int(input(\"Enter age: \"))\n",
        "salary=int(input(\"Enter salary: \"))\n",
        "current_job_designation=input(\"Enter current job designation: \")\n",
        "\n",
        "print(calculate_tax(age,salary,current_job_designation))"
      ],
      "metadata": {
        "id": "OEs3DPjABMfq"
      },
      "execution_count": null,
      "outputs": []
    },
    {
      "cell_type": "code",
      "source": [
        "#task 6\n",
        "def day_counter(days):\n",
        "    #days=4330\n",
        "    year=days//365 \n",
        "    days=days%365\n",
        "    month=days//30\n",
        "    days=days%30\n",
        "    print(\"{} years, {} months and {} days\".format(year,month,days))\n",
        "\n",
        "day_counter(int(input(\"Ender number of days:\")))"
      ],
      "metadata": {
        "colab": {
          "base_uri": "https://localhost:8080/"
        },
        "id": "ve1i-6vy9HJ2",
        "outputId": "3b5e54e2-ddd1-438d-94ce-f186931146c1"
      },
      "execution_count": null,
      "outputs": [
        {
          "output_type": "stream",
          "name": "stdout",
          "text": [
            "Ender number of days:4330\n",
            "11 years, 10 months and 15 days\n"
          ]
        }
      ]
    },
    {
      "cell_type": "code",
      "source": [
        "#task 7\n",
        "def show_palindrome(rows):\n",
        "        \n",
        "        for i_iterate in range(1,rows+1):\n",
        "            print(i_iterate,end=\" \")\n",
        "\n",
        "        for j_iterate in range(rows-1,0,-1):\n",
        "            print(j_iterate,end=\" \")\n",
        "                \n",
        "limit=int(input(\"Enter the limit :\"))\n",
        "\n",
        "show_palindrome(limit)"
      ],
      "metadata": {
        "colab": {
          "base_uri": "https://localhost:8080/"
        },
        "id": "dJ-sPA9BP8ws",
        "outputId": "786302ea-3c56-4382-b739-6ba1a805d70d"
      },
      "execution_count": null,
      "outputs": [
        {
          "output_type": "stream",
          "name": "stdout",
          "text": [
            "Enter the limit :5\n",
            "1 2 3 4 5 4 3 2 1 "
          ]
        }
      ]
    },
    {
      "cell_type": "code",
      "source": [
        "#task 8\n",
        "def show_palindromic_triangle(rows):\n",
        "   \n",
        "    for i_iterate in range(1,rows+1):\n",
        "        \n",
        "        for j_iterate in range(i_iterate,rows+1):\n",
        "                print(\" \",end=\" \")\n",
        "        \n",
        "        for k_iterate in range(1,i_iterate+1):\n",
        "            print(k_iterate,end=\" \")\n",
        "         \n",
        "        for l_iterate in range(k_iterate-1,0,-1):\n",
        "            #print(l_iterate)\n",
        "            print(l_iterate,end=\" \")\n",
        "        \n",
        "        print()\n",
        "                \n",
        "limit=int(input(\"Enter the limit :\"))\n",
        "\n",
        "show_palindromic_triangle(limit)"
      ],
      "metadata": {
        "colab": {
          "base_uri": "https://localhost:8080/"
        },
        "id": "zIgbEVgOEg8s",
        "outputId": "c517e665-06c8-4de6-e84f-fead9356e1d4"
      },
      "execution_count": null,
      "outputs": [
        {
          "output_type": "stream",
          "name": "stdout",
          "text": [
            "Enter the limit :5\n",
            "          1 \n",
            "        1 2 1 \n",
            "      1 2 3 2 1 \n",
            "    1 2 3 4 3 2 1 \n",
            "  1 2 3 4 5 4 3 2 1 \n"
          ]
        }
      ]
    },
    {
      "cell_type": "code",
      "source": [
        "#task 9\n",
        "import math\n",
        "\n",
        "def area_circumference_generator(rad):\n",
        "    circumference=2*math.pi*rad\n",
        "    area=math.pi * rad**2\n",
        "\n",
        "    return area,circumference\n",
        "\n",
        "radious=float(input(\"Enter a radious: \"))\n",
        "area,circumference=area_circumference_generator(radious)\n",
        "print(\"Area of the circle is {} and circumference is {}\".format(area,circumference))"
      ],
      "metadata": {
        "colab": {
          "base_uri": "https://localhost:8080/"
        },
        "id": "7JNqJrYshQ_V",
        "outputId": "bb3de56c-2157-4a10-9c89-e4c7739a1d5c"
      },
      "execution_count": null,
      "outputs": [
        {
          "output_type": "stream",
          "name": "stdout",
          "text": [
            "Enter a radious: 1\n",
            "Area of the circle is 3.141592653589793 and circumference is 6.283185307179586\n"
          ]
        }
      ]
    },
    {
      "cell_type": "code",
      "source": [
        "#task 10\n",
        "def make_square(range_tuple):\n",
        "    sqr_dict={}\n",
        "    for iterate in range(range_tuple[0],range_tuple[1]+1):\n",
        "        sqr_dict[iterate]=iterate**2\n",
        "    return sqr_dict\n",
        "\n",
        "range_tuple=(5,9)\n",
        "print(make_square(range_tuple))"
      ],
      "metadata": {
        "colab": {
          "base_uri": "https://localhost:8080/"
        },
        "id": "YsZPvboXk3Sz",
        "outputId": "59db4eac-8e22-4c6b-e3cc-70914262ed6d"
      },
      "execution_count": null,
      "outputs": [
        {
          "output_type": "stream",
          "name": "stdout",
          "text": [
            "{5: 25, 6: 36, 7: 49, 8: 64, 9: 81}\n"
          ]
        }
      ]
    },
    {
      "cell_type": "code",
      "source": [
        "#task 11\n",
        "def rem_duplicate(input_tuple):\n",
        "    output_list=[]\n",
        "    for iterate in input_tuple:\n",
        "        if iterate in output_list:\n",
        "            pass\n",
        "        else: output_list.append(iterate)\n",
        "    return tuple(output_list)\n",
        "\n",
        "print(rem_duplicate((1,1,1,2,3,4,5,6,6,6,6,4,0,0,0)))"
      ],
      "metadata": {
        "colab": {
          "base_uri": "https://localhost:8080/"
        },
        "id": "oHh13mWdnnmK",
        "outputId": "0d0d4851-ef60-41ca-c5f2-04041d47112b"
      },
      "execution_count": null,
      "outputs": [
        {
          "output_type": "stream",
          "name": "stdout",
          "text": [
            "(1, 2, 3, 4, 5, 6, 0)\n"
          ]
        }
      ]
    },
    {
      "cell_type": "code",
      "source": [
        "#task 12\n",
        "def counter(number,new_list):\n",
        "    count=0\n",
        "    for iterate in new_list:\n",
        "        if number == iterate:\n",
        "            count+=1\n",
        "    return count\n",
        "\n",
        "def element_checker(input_list):\n",
        "    new_list=[]\n",
        "    drop_elem=0\n",
        "    for iterate in input_list:\n",
        "        if iterate in new_list:\n",
        "            if counter(iterate,new_list)>=2:\n",
        "                drop_elem+=1\n",
        "            else: new_list.append(iterate)\n",
        "        else: new_list.append(iterate) \n",
        "    print(\"Removed:\",drop_elem)\n",
        "    return new_list\n",
        "print(element_checker([10, 10, 15, 15, 20]))"
      ],
      "metadata": {
        "colab": {
          "base_uri": "https://localhost:8080/"
        },
        "id": "IXcgusUuqrPc",
        "outputId": "a5aacdc7-7bf8-4748-f7d7-4cd2b7765a6f"
      },
      "execution_count": null,
      "outputs": [
        {
          "output_type": "stream",
          "name": "stdout",
          "text": [
            "Removed: 0\n",
            "[10, 10, 15, 15, 20]\n"
          ]
        }
      ]
    },
    {
      "cell_type": "code",
      "source": [
        "#task 13\n",
        "def addition(var1,var2):\n",
        "    return var1+var2\n",
        "\n",
        "def multiplicate(var1,var2):\n",
        "    return var1 * var2\n",
        "\n",
        "def subtract(var1,var2):\n",
        "    return var1 - var2\n",
        "\n",
        "def division(var1,var2):\n",
        "    return var1/var2\n",
        "\n",
        "def basic_calc(operator,operand1,operand2):\n",
        "    if operator== \"+\":\n",
        "        result=addition(operand1,operand2)\n",
        "    elif operator== \"-\":\n",
        "        result=subtract(operand1,operand2)\n",
        "    elif operator== \"*\":\n",
        "        result=multiplicate(operand1,operand2)\n",
        "    elif operator== \"/\":\n",
        "        result=division(operand1,operand2)\n",
        "    return result\n",
        "\n",
        "operator= input(\"Enter operator: \")\n",
        "operand1= float(input(\"Enter first operand:\"))\n",
        "operand2= float(input(\"Enter second operand:\"))\n",
        "\n",
        "print(basic_calc(operator,operand1,operand2))"
      ],
      "metadata": {
        "colab": {
          "base_uri": "https://localhost:8080/"
        },
        "id": "pc8hAAYQzoZh",
        "outputId": "82afff7f-38bd-4f12-a102-42467e7197a8"
      },
      "execution_count": null,
      "outputs": [
        {
          "output_type": "stream",
          "name": "stdout",
          "text": [
            "Enter operator: /\n",
            "Enter first operand:7\n",
            "Enter second operand:2\n",
            "3.5\n"
          ]
        }
      ]
    },
    {
      "cell_type": "code",
      "source": [
        "#task 14\n",
        "def modifier(sentence,position):\n",
        "    new_sentence1=new_sentence2=\"\"\n",
        "    for iterate in range(len(sentence)):\n",
        "        if iterate == 0:\n",
        "            pass\n",
        "        elif iterate%position==0:\n",
        "            new_sentence2+=sentence[iterate]\n",
        "        else: new_sentence1+=sentence[iterate]\n",
        "    return new_sentence1+new_sentence2\n",
        "\n",
        "sentence=input(\"Enter a sentence: \")\n",
        "position= int(input(\"Enter a number: \"))\n",
        "print(modifier(sentence,position))"
      ],
      "metadata": {
        "colab": {
          "base_uri": "https://localhost:8080/"
        },
        "id": "XG2BsjFv3k94",
        "outputId": "1649830c-727a-43ce-c6fa-bd937437448f"
      },
      "execution_count": null,
      "outputs": [
        {
          "output_type": "stream",
          "name": "stdout",
          "text": [
            "Enter a sentence: I love foooddd\n",
            "Enter a number: 2\n",
            " oefoddlv ood\n"
          ]
        }
      ]
    },
    {
      "cell_type": "code",
      "source": [
        "#task 15\n",
        "def payment(order_items,location=\"Dhanmondi\"):\n",
        "    bill=0\n",
        "    for iterate in order_items:\n",
        "        stock_dict={'Rice':105,'Potato':20,'Chicken': 250,'Beef': 510,'Oil' :85}\n",
        "        bill+=stock_dict[iterate]\n",
        "    if location== \"Dhanmondi\":\n",
        "        bill+=30\n",
        "    else: bill+=70\n",
        "    return bill\n",
        "\n",
        "order_item=[]\n",
        "for iterate in range(3):\n",
        "    order_item[iterate]=input(\"Add to cart: \")\n",
        "\n",
        "print(payment(order_item))\n"
      ],
      "metadata": {
        "colab": {
          "base_uri": "https://localhost:8080/"
        },
        "id": "e2sV9V5r5wZP",
        "outputId": "54dc0ec1-19e2-474f-c2bb-1cdc81a519fa"
      },
      "execution_count": null,
      "outputs": [
        {
          "output_type": "stream",
          "name": "stdout",
          "text": [
            "750\n"
          ]
        }
      ]
    }
  ]
}