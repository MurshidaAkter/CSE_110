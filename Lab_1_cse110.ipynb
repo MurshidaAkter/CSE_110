{
  "nbformat": 4,
  "nbformat_minor": 0,
  "metadata": {
    "colab": {
      "provenance": [],
      "authorship_tag": "ABX9TyPwIS7LPeOF6cwEHy7rY+j5",
      "include_colab_link": true
    },
    "kernelspec": {
      "name": "python3",
      "display_name": "Python 3"
    },
    "language_info": {
      "name": "python"
    }
  },
  "cells": [
    {
      "cell_type": "markdown",
      "metadata": {
        "id": "view-in-github",
        "colab_type": "text"
      },
      "source": [
        "<a href=\"https://colab.research.google.com/github/MurshidaAkter/CSE_110/blob/main/Lab_1_cse110.ipynb\" target=\"_parent\"><img src=\"https://colab.research.google.com/assets/colab-badge.svg\" alt=\"Open In Colab\"/></a>"
      ]
    },
    {
      "cell_type": "markdown",
      "source": [
        "Task1: Write the Python code of a program that reads two numbers from the user, and prints their sum,\n",
        "product, and difference."
      ],
      "metadata": {
        "id": "e_rQpC2Okefm"
      }
    },
    {
      "cell_type": "code",
      "source": [
        "#Task 1\n",
        "num1 = int(input('Please enter the first number: '))\n",
        "num2 = int(input('Please enter the second number: '))\n",
        "print('Sum= ',num1+num2)\n",
        "print(\"Product =\",num1*num2)\n",
        "print(\"Difference =\",num1-num2)"
      ],
      "metadata": {
        "colab": {
          "base_uri": "https://localhost:8080/"
        },
        "id": "XlJ89kwzUH8m",
        "outputId": "0db7eeb4-9c7a-4bfc-ecc3-95de7ba347da"
      },
      "execution_count": null,
      "outputs": [
        {
          "output_type": "stream",
          "name": "stdout",
          "text": [
            "sum= 32\n",
            "Product = 60\n",
            "Difference = 28\n"
          ]
        }
      ]
    },
    {
      "cell_type": "markdown",
      "source": [
        "Task 2: Write the Python code of a program that reads the radius of a circle and prints its circumference\n",
        "and area."
      ],
      "metadata": {
        "id": "IU2Kv2iiUl9M"
      }
    },
    {
      "cell_type": "code",
      "source": [
        "import math\n",
        "rad = float(input('Please enter the radious: '))\n",
        "\n",
        "area=math.pi*(rad**2)\n",
        "circumference= 2*math.pi*rad\n",
        "\n",
        "print(\"Area is\",area)\n",
        "print(\"Circumference is\",circumference)"
      ],
      "metadata": {
        "colab": {
          "base_uri": "https://localhost:8080/"
        },
        "id": "cNwH9gQYXoyA",
        "outputId": "9d6d9507-4c3f-490b-b379-50d98a581aa8"
      },
      "execution_count": null,
      "outputs": [
        {
          "output_type": "stream",
          "name": "stdout",
          "text": [
            "Please enter the radious: 3.5\n",
            "Area is 38.48451000647496\n",
            "Circumference is 21.991148575128552\n"
          ]
        }
      ]
    },
    {
      "cell_type": "markdown",
      "source": [
        "Task 3: Write the Python code of a program that reads two numbers from the user. The program should\n",
        "then print \"First is greater\" if the first number is greater, \"Second is greater\" if the second number\n",
        "is greater, and \"The numbers are equal\" otherwise."
      ],
      "metadata": {
        "id": "DnTgEKNcZXJE"
      }
    },
    {
      "cell_type": "code",
      "source": [
        "num1 = int(input('Please enter the first number: '))\n",
        "num2 = int(input('Please enter the second number: '))\n",
        "\n",
        "if num1>num2:    \n",
        "  print(\"First is greater\")\n",
        "\n",
        "elif num2>num1:\n",
        "  print(\"Second is greater\")\n",
        "\n",
        "else: \n",
        "  print(\"The numbers are equal\")\n",
        "\n",
        "\n",
        "#ladder structure, works with one condition at a time\n",
        "\n",
        "#for chain works with nested condition at a time\n",
        "#if codition \n",
        " # if \n",
        " # else\n",
        "#else"
      ],
      "metadata": {
        "colab": {
          "base_uri": "https://localhost:8080/"
        },
        "id": "P4Bf-qdkZZVk",
        "outputId": "e9d954f3-a7f3-49e9-8ed8-f4d03c8948d2"
      },
      "execution_count": null,
      "outputs": [
        {
          "output_type": "stream",
          "name": "stdout",
          "text": [
            "Please enter the first number: 4\n",
            "Please enter the second number: 4\n",
            "The numbers are equal\n"
          ]
        }
      ]
    },
    {
      "cell_type": "markdown",
      "source": [
        "Task 4: Write the Python code of a program that reads two numbers, subtracts the smaller number from\n",
        "the larger one, and prints the result."
      ],
      "metadata": {
        "id": "BRZXs0T7bVG-"
      }
    },
    {
      "cell_type": "code",
      "source": [
        "num1 = int(input('Please enter the first number: '))\n",
        "num2 = int(input('Please enter the second number: '))\n",
        "sub=0\n",
        "\n",
        "if num1>num2:\n",
        "  sub=num1-num2\n",
        "  print(sub)\n",
        "\n",
        "elif num2>num1:\n",
        "  sub=num2-num1\n",
        "  print(sub)\n",
        "\n",
        "else: \n",
        "  print(sub)"
      ],
      "metadata": {
        "colab": {
          "base_uri": "https://localhost:8080/"
        },
        "id": "3o-47mF1bZRv",
        "outputId": "41b46720-506f-4458-8cee-3aa1ec012373"
      },
      "execution_count": null,
      "outputs": [
        {
          "output_type": "stream",
          "name": "stdout",
          "text": [
            "Please enter the first number: 5\n",
            "Please enter the second number: 5\n",
            "0\n"
          ]
        }
      ]
    },
    {
      "cell_type": "markdown",
      "source": [
        "Task 5: Write the Python code of a program that reads a number, and prints \"The number is even\" or \"The\n",
        "number is odd\", depending on whether the number is even or odd."
      ],
      "metadata": {
        "id": "MxWsHGUOcxuf"
      }
    },
    {
      "cell_type": "code",
      "source": [
        "num1 = int(input('Please enter a number: '))\n",
        "\n",
        "if num1%2==0:\n",
        "  print(\"The number is even\")\n",
        "\n",
        "else: print(\"The number is odd\")"
      ],
      "metadata": {
        "colab": {
          "base_uri": "https://localhost:8080/"
        },
        "id": "NnpYvzO0cv9y",
        "outputId": "36e0c083-e4a8-4eb5-a012-2bbd3a90d54f"
      },
      "execution_count": null,
      "outputs": [
        {
          "output_type": "stream",
          "name": "stdout",
          "text": [
            "Please enter a number: 1\n",
            "The number is odd\n"
          ]
        }
      ]
    },
    {
      "cell_type": "markdown",
      "source": [
        "Task 6: Write the Python code of a program that reads an integer as input from the user, and prints the\n",
        "integer if it is a multiple of 2 OR 5 and prints \"Not a multiple of 2 OR 5\" otherwise.\n",
        "For example, 2, 4, 5, 6, 8, 10, 12, 14, 15, 16, 18, 20, 22 ... i.e. this includes multiples of 2 only,\n",
        "multiples of 5 only and multiples of 2 and 5 both."
      ],
      "metadata": {
        "id": "Qq_4oucWk5Wx"
      }
    },
    {
      "cell_type": "code",
      "source": [
        "#task 6\n",
        "num1 = int(input('Please enter a number: '))\n",
        "\n",
        "if num1%2==0 and num1%5==0:\n",
        "  print(\"Not a multiple of 2 OR 5\")\n",
        "\n",
        "elif num1%2==0 or num1%5==0:\n",
        "  print(num1)"
      ],
      "metadata": {
        "colab": {
          "base_uri": "https://localhost:8080/"
        },
        "id": "jrmGtE0PelqR",
        "outputId": "99b54647-9dd6-4400-f319-fe3def0ea1e7"
      },
      "execution_count": null,
      "outputs": [
        {
          "output_type": "stream",
          "name": "stdout",
          "text": [
            "Please enter a number: 5\n",
            "5\n"
          ]
        }
      ]
    },
    {
      "cell_type": "markdown",
      "source": [
        "Task 7: Write the Python code of a program that reads an integer, and prints the integer it is a multiple of\n",
        "either 2 or 5 but not both. If the number is a multiple of 2 and 5 both, then print \"Multiple of 2\n",
        "and 5 both\". For all other numbers, the program prints \"Not a multiple we want\".\n",
        "For example, 2, 4, 5, 6, 8, 12, 14, 15, 16, 18, 22 ... i.e. this includes multiples of 2 only and\n",
        "multiples of 5 only, NOT multiples of 2 and 5 both or other numbers."
      ],
      "metadata": {
        "id": "QJ242udGlIGz"
      }
    },
    {
      "cell_type": "code",
      "source": [
        "#task 7\n",
        "num1 = int(input('Please enter a number: '))\n",
        "\n",
        "if num1%2==0 and num1%5==0:\n",
        "  print(\"Multiple of 2 and 5 both\")\n",
        "\n",
        "elif num1%2==0 or num1%5==0:\n",
        "  print(num1)\n",
        "\n",
        "else :\n",
        "  print(\"Not a multiple we want\")\n"
      ],
      "metadata": {
        "colab": {
          "base_uri": "https://localhost:8080/"
        },
        "id": "Vo7fenGGkXg_",
        "outputId": "f01f0438-ef4c-4ba2-e843-b49559096e6e"
      },
      "execution_count": null,
      "outputs": [
        {
          "output_type": "stream",
          "name": "stdout",
          "text": [
            "Please enter a number: 7\n",
            "Not a multiple we want\n"
          ]
        }
      ]
    },
    {
      "cell_type": "markdown",
      "source": [
        "Task 8: Write the Python code of a program that reads an integer, and prints the integer if it is a multiple\n",
        "of 2 AND 5 and prints \"Not multiple of 2 and 5 both\" otherwise."
      ],
      "metadata": {
        "id": "SyP9S55HlD0p"
      }
    },
    {
      "cell_type": "code",
      "source": [
        "#task8\n",
        "num1 = int(input('Please enter a number: '))\n",
        "\n",
        "if num1%2==0 and num1%5==0:\n",
        "  print(num1)\n",
        "\n",
        "else:\n",
        "  print(\"Not a multiple of 2 and 5 both\")"
      ],
      "metadata": {
        "colab": {
          "base_uri": "https://localhost:8080/"
        },
        "id": "CQ7fX1ank7LJ",
        "outputId": "87b57af8-bb6d-4810-c357-8e8af3ff1fae"
      },
      "execution_count": null,
      "outputs": [
        {
          "output_type": "stream",
          "name": "stdout",
          "text": [
            "Please enter a number: 10\n",
            "10\n"
          ]
        }
      ]
    },
    {
      "cell_type": "markdown",
      "source": [
        "Task 9: Write the Python code of a program that finds the number of hours, minutes, and seconds in a\n",
        "given number of seconds. The number of seconds is taken as input from the user."
      ],
      "metadata": {
        "id": "Hz1r4nmflQeQ"
      }
    },
    {
      "cell_type": "code",
      "source": [
        "#task9\n",
        "seconds = int(input('Enter seconds: '))\n",
        "\n",
        "if seconds>=0:\n",
        "  hour = seconds // 3600\n",
        "  seconds %= 3600\n",
        "  minutes = seconds // 60\n",
        "  seconds %= 60\n",
        "  print('Hours:', hour,' Minutes:',minutes ,' Seconds:', seconds)   \n",
        "\n",
        "else: print(\"invalid input\")"
      ],
      "metadata": {
        "colab": {
          "base_uri": "https://localhost:8080/"
        },
        "id": "2tNJp-vOqUsJ",
        "outputId": "b331b7d8-812c-4a68-98d6-ae6e5d6c0d6a"
      },
      "execution_count": null,
      "outputs": [
        {
          "output_type": "stream",
          "name": "stdout",
          "text": [
            "Enter seconds: 10000\n",
            "Hours: 2  Minutes: 46  Seconds: 40\n"
          ]
        }
      ]
    },
    {
      "cell_type": "markdown",
      "source": [
        "Task 10:Write a Python program to compute and display a person’s weekly salary as determined by the\n",
        "following conditions:\n",
        "● If the hours worked is less than or equal to 40, then the person receives Tk 200 per hour.\n",
        "● If the hours worked is greater than 40, then the person receives Tk 8000 plus Tk 300 for\n",
        "each hour worked over 40 hours.\n",
        "The program should request the hours worked as an input from the user and display the salary as\n",
        "output. You need to make sure that user input is valid. For example, a person cannot work for -5\n",
        "hours or more than 168 hours in a week. So, the valid hours range is 0 to 168. For invalid hours,\n",
        "print outputs as given in the samples below."
      ],
      "metadata": {
        "id": "s4VFpwUIlVO4"
      }
    },
    {
      "cell_type": "code",
      "source": [
        "#task10\n",
        "work_hours = int(input('Enter work hours: '))\n",
        "\n",
        "if work_hours <= 40 and work_hours>=0:\n",
        "  salary = work_hours * 200\n",
        "  print(salary)\n",
        "\n",
        "elif work_hours > 40 and work_hours<=168:\n",
        "  hours=work_hours-40\n",
        "  salary = 8000+(hours * 300)\n",
        "  print(salary)\n",
        "\n",
        "elif work_hours<0:\n",
        "  print(\"Hour cannot be negative\")\n",
        "\n",
        "elif work_hours>168:\n",
        "  print(\"Impossible to work more than 168 hours weekly\")"
      ],
      "metadata": {
        "colab": {
          "base_uri": "https://localhost:8080/"
        },
        "id": "6vm7RL7grPXC",
        "outputId": "a0d27a20-653a-43fa-9bae-0801ce810316"
      },
      "execution_count": null,
      "outputs": [
        {
          "output_type": "stream",
          "name": "stdout",
          "text": [
            "Enter work hours: -3\n",
            "Hour cannot be negative\n"
          ]
        }
      ]
    },
    {
      "cell_type": "markdown",
      "source": [
        "Task 11: Suppose the following expressions are used to calculate the values of L for different values of S. Since S (user input) given here is 120 >= 100, so L = 12000 / (4 + (120 *\n",
        "120)/14900) = 2416.2162162162163"
      ],
      "metadata": {
        "id": "VeBNu0rDlefR"
      }
    },
    {
      "cell_type": "code",
      "source": [
        "#task11\n",
        "s = int(input('Enter a number: '))\n",
        "\n",
        "if s>=100:\n",
        "  L=12000/(4+(s**2)/14900)\n",
        "  print(L)\n",
        "\n",
        "else:\n",
        "  L=3000-125*(s**2)\n",
        "  print(L)"
      ],
      "metadata": {
        "colab": {
          "base_uri": "https://localhost:8080/"
        },
        "id": "kPcfCdWB7KQG",
        "outputId": "53ee2825-2384-4570-fd8a-178e7e843f5f"
      },
      "execution_count": null,
      "outputs": [
        {
          "output_type": "stream",
          "name": "stdout",
          "text": [
            "Enter a number: 120\n",
            "2416.2162162162163\n"
          ]
        }
      ]
    },
    {
      "cell_type": "markdown",
      "source": [
        "Task 12: Write a Python program that takes an hour from the user as input and tells it is time for which\n",
        "meal.\n",
        "• The user will input the number in a 24-hour format. So, 14 means 2 pm, 3 means 3 am, 18\n",
        "means 6 pm, etc.\n",
        "• Valid inputs are 0 to 23. Inputs less than 0 or more than 23 are invalid in 24-hour clock.\n",
        "• Assume, input will be whole numbers. For example, 3.5 will NOT be given as input."
      ],
      "metadata": {
        "id": "v2HitzfqlvCw"
      }
    },
    {
      "cell_type": "code",
      "source": [
        "#task12\n",
        "hour = int(input('Enter hour in 24-hour format: '))\n",
        "\n",
        "if hour>=4 and hour<=6:\n",
        "  print(\"Breakfast\")\n",
        "\n",
        "elif hour>=12 and hour<=13:\n",
        "  print(\"Lunch\")\n",
        "\n",
        "elif hour>=16 and hour<=17:\n",
        "  print(\"Snacks\")\n",
        "\n",
        "elif hour>=19 and hour<=20:\n",
        "  print(\"Dinner\")\n",
        "\n",
        "elif hour>=0 and hour<=23:\n",
        "  print(\"Patience is a virtue\")\n",
        "\n",
        "else:\n",
        "  print(\"Wrong Time\")"
      ],
      "metadata": {
        "colab": {
          "base_uri": "https://localhost:8080/"
        },
        "id": "yAa8ovr9_ZZV",
        "outputId": "50ff915a-5849-4251-d4d0-aca7f0e152d1"
      },
      "execution_count": null,
      "outputs": [
        {
          "output_type": "stream",
          "name": "stdout",
          "text": [
            "Enter hour in 24-hour format: 3\n",
            "Patience is a virtue\n"
          ]
        }
      ]
    },
    {
      "cell_type": "markdown",
      "source": [
        "Task 13: Write the Python code of a program that reads a student’s mark for a single subject, and prints out\n",
        "the corresponding grade for that mark. The mark ranges and corresponding grades are shown in\n",
        "the table below. You need to make sure that the mark is valid. For example, a student cannot\n",
        "receive -5 or 110 marks. So, the valid marks range from 0 to 100."
      ],
      "metadata": {
        "id": "9X_6MfCvlyq4"
      }
    },
    {
      "cell_type": "code",
      "source": [
        "#task13\n",
        "mark = int(input('Enter student’s mark for a single subject: '))\n",
        "\n",
        "if mark<=100 and mark>=90:\n",
        "  print(\"A\")\n",
        "\n",
        "elif mark>=80 and mark<=89:\n",
        "  print(\"B\")\n",
        "\n",
        "elif mark>=70 and mark<=79:\n",
        "  print(\"C\")\n",
        "\n",
        "elif mark>=60 and mark<=69:\n",
        "  print(\"D\")\n",
        "\n",
        "elif mark>=50 and mark<=59:\n",
        "  print(\"E\")\n",
        "\n",
        "elif mark<50 and mark>=0:\n",
        "  print(\"F\")\n",
        "\n",
        "else:\n",
        "  print(\"Wrong input.\")"
      ],
      "metadata": {
        "colab": {
          "base_uri": "https://localhost:8080/"
        },
        "id": "vPNxe1vmEGgO",
        "outputId": "3355dcf3-b1b7-4206-d79b-bd9d048d5ff7"
      },
      "execution_count": null,
      "outputs": [
        {
          "output_type": "stream",
          "name": "stdout",
          "text": [
            "Enter student’s mark for a single subject: 20\n",
            "F\n"
          ]
        }
      ]
    },
    {
      "cell_type": "markdown",
      "source": [
        "Task 14: Suppose, your friend is building an automated car called “Besla”. He needs to fix the programming\n",
        "of the car so that it runs at a proper speed. Now, write a python program that takes 2 inputs (distance\n",
        "in meters and time in seconds). The program should then print the velocity in kilometers per hour\n",
        "of that car. Also, it should print whether the car is working properly based on the following chart."
      ],
      "metadata": {
        "id": "ff7ZwB0ol3rn"
      }
    },
    {
      "cell_type": "code",
      "source": [
        "#task14\n",
        "distance=int(input('Enter Distance in meters: '))\n",
        "time=int(input('Enter Time in seconds: '))\n",
        "\n",
        "velocity=(distance/1000)/(time/3600)\n",
        "\n",
        "print(velocity,'km/h')\n",
        "\n",
        "if velocity<60:\n",
        "  print(\"Too slow.Needs more changes.\")\n",
        "elif velocity>=60 and velocity<=90:\n",
        "  print(\"Velocity is okay.The car is ready!\")\n",
        "elif velocity>90:\n",
        "  print('Too fast.Only a few changes should suffice.')"
      ],
      "metadata": {
        "colab": {
          "base_uri": "https://localhost:8080/"
        },
        "id": "U47jKa5KKGgZ",
        "outputId": "5751c81c-b747-4167-e5fb-7f3380615063"
      },
      "execution_count": null,
      "outputs": [
        {
          "output_type": "stream",
          "name": "stdout",
          "text": [
            "Enter Distance in meters: 25400\n",
            "Enter Time in seconds: 3600\n",
            "25.4 km/h\n",
            "Too slow.Needs more changes.\n"
          ]
        }
      ]
    },
    {
      "cell_type": "markdown",
      "source": [
        "Task 15: Write a python program that takes the CGPA and no of credits completed by a student and prints\n",
        "whether the student is eligible for a waiver and of what percentage.\n",
        "To be eligible for a waiver, a student must have completed at least 30 credits and earned a CGPA\n",
        "greater or equal to 3.8. If not, please print \"The student is not eligible for a waiver\"."
      ],
      "metadata": {
        "id": "FKmn3_Zil9PB"
      }
    },
    {
      "cell_type": "code",
      "source": [
        "#task15\n",
        "cgpa = float(input('Enter obtained CGPA: '))\n",
        "credit = float(input('Enter credit earned: '))\n",
        "\n",
        "if credit>=30 and cgpa>=3.8:\n",
        "  if cgpa>=3.80 and cgpa<=3.89:\n",
        "    print(\"The student is eligible for a waiver of 25 percent\")\n",
        "  elif cgpa>=3.90 and cgpa<=3.94:\n",
        "    print(\"The student is eligible for a waiver of 50 percent\")\n",
        "  elif cgpa>=3.95 and cgpa<=3.99:\n",
        "    print(\"The student is eligible for a waiver of 75 percent\")\n",
        "  elif cgpa==4.00:\n",
        "    print(\"The student is eligible for a waiver of 100 percent\")\n",
        "  else: print(\"Wrong input.\") \n",
        "elif credit<30 and credit>0 : \n",
        "    print(\"The student is not eligible for a waiver\")\n",
        "else : print(\"Wrong input.\")"
      ],
      "metadata": {
        "colab": {
          "base_uri": "https://localhost:8080/"
        },
        "id": "fDHcI2H5O0nl",
        "outputId": "c37ea163-cdc5-4184-cecc-1945a5d91c3b"
      },
      "execution_count": null,
      "outputs": [
        {
          "output_type": "stream",
          "name": "stdout",
          "text": [
            "Enter obtained CGPA: -3\n",
            "Enter credit earned: -2\n",
            "Wrong input.\n"
          ]
        }
      ]
    },
    {
      "cell_type": "code",
      "source": [
        "#task16\n",
        "p = 5\n",
        "q = 6\n",
        "r = 9\n",
        "sum = 0\n",
        "if (p < 12):\n",
        " print(r + 2)\n",
        "else:\n",
        " print(r + p)\n",
        "if (q > 20):\n",
        " print(r + 19)\n",
        "elif (q <= 6):\n",
        " print(q + 3)\n",
        "else:\n",
        " print(p + q + r)\n",
        "if (r > 15):\n",
        " print(r)\n",
        "elif (r == 0):\n",
        " print(p + q)\n",
        "else:\n",
        " print(p)\n",
        "if (sum != 0):\n",
        " print(3)\n",
        "else:\n",
        " print(sum + 32)\n",
        "if (p>0 and r<10):\n",
        " print(p+r)\n",
        "else:\n",
        " print(p-r)"
      ],
      "metadata": {
        "colab": {
          "base_uri": "https://localhost:8080/"
        },
        "id": "n4oRiIES6cei",
        "outputId": "711c1417-e11c-4e0a-d47c-54374055ad5c"
      },
      "execution_count": null,
      "outputs": [
        {
          "output_type": "stream",
          "name": "stdout",
          "text": [
            "11\n",
            "9\n",
            "5\n",
            "32\n",
            "14\n"
          ]
        }
      ]
    },
    {
      "cell_type": "code",
      "source": [
        "#task17\n",
        "var1 = var2 = var3 = var4 = var5 = var6 = False\n",
        "result1 = False\n",
        "result2 = False\n",
        "result3 = False\n",
        "result4 = False\n",
        "result5 = False\n",
        "result6 = False\n",
        "result7 = False\n",
        "result8 = False\n",
        "result9 = False\n",
        "result10 = False\n",
        "var1 = 4 > 3 - 1\n",
        "var2 = var1 and False\n",
        "var3 = True\n",
        "var4 = False\n",
        "var5 = True\n",
        "var6 = var3 and False\n",
        "result1 = (var1 or var2) and (8 * 10 > 45)\n",
        "result2 = (var1 or var2) and (result1 and False)\n",
        "result3 = (var1 and result1) or result2\n",
        "result4 = (var1 or var2) or ((var3 and var1) and False)\n",
        "result5 = (var1 and var2) and (result3 or var1)\n",
        "result6 = ((var3 or var2) and not(result5)) or True\n",
        "result7 = (var4 and result1) and ((result1 and False) or True)\n",
        "result8 = ((var1 and result3) and (var5 or var6)) and True\n",
        "result9 = ((result2 and var2) or (result7 and var1)) and False\n",
        "result10 = not(var1 and True)\n",
        "print(result1)\n",
        "print(result2)\n",
        "print(result3)\n",
        "print(result4)\n",
        "print(result5)\n",
        "print(result6)\n",
        "print(result7)\n",
        "print(result8)\n",
        "print(result9)\n",
        "print(result10)"
      ],
      "metadata": {
        "colab": {
          "base_uri": "https://localhost:8080/"
        },
        "id": "a4ugau39OFoG",
        "outputId": "037d2d5e-bc23-4787-b1c1-b156c9c0c022"
      },
      "execution_count": null,
      "outputs": [
        {
          "output_type": "stream",
          "name": "stdout",
          "text": [
            "True\n",
            "False\n",
            "True\n",
            "True\n",
            "False\n",
            "True\n",
            "False\n",
            "True\n",
            "False\n",
            "False\n"
          ]
        }
      ]
    },
    {
      "cell_type": "code",
      "source": [
        "#task18\n",
        "var1 = False\n",
        "var2 = False\n",
        "var3 = False\n",
        "var4 = False\n",
        "var5 = False\n",
        "var6 = False\n",
        "result1 = False\n",
        "result2 = False\n",
        "result3 = False\n",
        "result4 = False\n",
        "result5 = False\n",
        "result6 = False\n",
        "result7 = False\n",
        "result8 = False\n",
        "result9 = False\n",
        "result10 = False\n",
        "var1 = ((not True) or True) and False\n",
        "var2 = var1 and False\n",
        "var3 = True and not False\n",
        "var4 = False\n",
        "var5 = True\n",
        "var6 = var3 and False\n",
        "result1 = (var1 and var2) and (40 % 3) > 45 or (var5 and var6)\n",
        "result2 = (var1 or var2) or (result1 and False)\n",
        "result3 = (var1 and result1) or result2 or var5\n",
        "result4 = (var1 or var2) or ((var3 and var1) and False)\n",
        "result5 = (var1 and var2) and (result3 or var1)\n",
        "result6 = ((var3 or (not var2)) and (result5)) or True\n",
        "result7 = (var4 and result1) and ((result1 and False) or True)\n",
        "result8 = ((var1 and result3) and ((not var5) or var6)) and True\n",
        "result9 = ((result2 and var2) or ((not result7) and var1)) and not False\n",
        "result10 = not(var1 and True)\n",
        "\n",
        "print(result1)\n",
        "print(result2)\n",
        "print(result3)\n",
        "print(result4)\n",
        "print(result5)\n",
        "print(result6)\n",
        "print(result7)\n",
        "print(result8)\n",
        "print(result9)\n",
        "print(result10)"
      ],
      "metadata": {
        "colab": {
          "base_uri": "https://localhost:8080/"
        },
        "id": "ZZPbVHb8UhBf",
        "outputId": "667b39c5-6e6b-4278-af98-b8ea10495990"
      },
      "execution_count": null,
      "outputs": [
        {
          "output_type": "stream",
          "name": "stdout",
          "text": [
            "False\n",
            "False\n",
            "True\n",
            "False\n",
            "False\n",
            "True\n",
            "False\n",
            "False\n",
            "False\n",
            "True\n"
          ]
        }
      ]
    },
    {
      "cell_type": "code",
      "source": [
        "#task19\n",
        "var1 = var2 = var3 = var4 = var5 = var6 = False\n",
        "result1 = result2 = result3 = result4 = result5 = result6 = False\n",
        "result7 = result8 = result9 = result10 = False\n",
        "var1 = (not False or False) and True\n",
        "var2 = var1 and True\n",
        "var3 = False and not True\n",
        "var4 = True\n",
        "var5 = False\n",
        "var6 = var3 and True\n",
        "result1 = (var1 and var2) and ( 40 % 3 > 45) or (var5 and var6)\n",
        "result2 = (var1 or var2) or (result1 and False)\n",
        "result3 = (var1 and result1) or result2 or var5\n",
        "result4 = (var1 or var2) or ((var3 and var1) and False)\n",
        "result5 = (var1 and var2) and (result3 or var1)\n",
        "result6 = ((var3 or not var2) and (result5)) or True\n",
        "result7 = (var4 and result1) and ((result1 and False) or True)\n",
        "result8 = ((var1 and result3) and (not var5 or var6)) and True\n",
        "result9 = ((result2 and var2) or (not result7 and var1)) and not False\n",
        "result10 = not (var1 and True)\n",
        "\n",
        "print(result1)\n",
        "print(result2)\n",
        "print(result3)\n",
        "print(result4)\n",
        "print(result5)\n",
        "print(result6)\n",
        "print(result7)\n",
        "print(result8)\n",
        "print(result9)\n",
        "print(result10)"
      ],
      "metadata": {
        "colab": {
          "base_uri": "https://localhost:8080/"
        },
        "id": "w5JdPzId73Ff",
        "outputId": "a42d76fe-3c6c-4dca-ae87-7e802dc453b6"
      },
      "execution_count": null,
      "outputs": [
        {
          "output_type": "stream",
          "name": "stdout",
          "text": [
            "False\n",
            "True\n",
            "True\n",
            "True\n",
            "True\n",
            "True\n",
            "False\n",
            "True\n",
            "True\n",
            "False\n"
          ]
        }
      ]
    }
  ]
}