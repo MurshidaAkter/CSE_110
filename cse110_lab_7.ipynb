{
  "nbformat": 4,
  "nbformat_minor": 0,
  "metadata": {
    "colab": {
      "provenance": [],
      "authorship_tag": "ABX9TyPSkGpqRjngW4awUGCut6sh",
      "include_colab_link": true
    },
    "kernelspec": {
      "name": "python3",
      "display_name": "Python 3"
    },
    "language_info": {
      "name": "python"
    }
  },
  "cells": [
    {
      "cell_type": "markdown",
      "metadata": {
        "id": "view-in-github",
        "colab_type": "text"
      },
      "source": [
        "<a href=\"https://colab.research.google.com/github/MurshidaAkter/CSE_110/blob/main/cse110_lab_7.ipynb\" target=\"_parent\"><img src=\"https://colab.research.google.com/assets/colab-badge.svg\" alt=\"Open In Colab\"/></a>"
      ]
    },
    {
      "cell_type": "code",
      "source": [
        "#task 1 (Bubble)\n",
        "my_list = [1, 2, 1, 4, 5, 4, 0]\n",
        "for iterate1 in range(1,len(my_list)):\n",
        "    for iterate2 in range(len(my_list)-iterate1):\n",
        "        if my_list[iterate2]>my_list[iterate2+1]:\n",
        "            my_list[iterate2+1],my_list[iterate2]=my_list[iterate2],my_list[iterate2+1]\n",
        "\n",
        "print(my_list)"
      ],
      "metadata": {
        "colab": {
          "base_uri": "https://localhost:8080/"
        },
        "id": "KAwW3COXdVdg",
        "outputId": "8a529450-9d4c-4c0a-b454-f019b12f4eae"
      },
      "execution_count": null,
      "outputs": [
        {
          "output_type": "stream",
          "name": "stdout",
          "text": [
            "[0, 1, 1, 2, 4, 4, 5]\n"
          ]
        }
      ]
    },
    {
      "cell_type": "code",
      "source": [
        "#task 2 (selection)\n",
        "my_list = [10, 1, 20, 3, 6]\n",
        "for iterate1 in range(len(my_list)-1):\n",
        "    min_location= iterate1\n",
        "    for iterate in range(iterate1+1,len(my_list)):\n",
        "        if my_list[min_location]>my_list[iterate]:\n",
        "            min_location=iterate\n",
        "    my_list[iterate1],my_list[min_location]=my_list[min_location],my_list[iterate1]\n",
        "    \n",
        "print(my_list)"
      ],
      "metadata": {
        "colab": {
          "base_uri": "https://localhost:8080/"
        },
        "id": "k6_cgNfQbXxy",
        "outputId": "22ec2660-a65c-4a9c-9f46-362784f9c889"
      },
      "execution_count": null,
      "outputs": [
        {
          "output_type": "stream",
          "name": "stdout",
          "text": [
            "[1, 2, 2, 3, 5, 6, 10, 11, 12, 14, 15, 17, 18, 20, 100]\n"
          ]
        }
      ]
    },
    {
      "cell_type": "code",
      "source": [
        "#task 3 (Bubble_desc)\n",
        "my_list = [10, 1, 20, 3, 6,29]\n",
        "for iterate1 in range(1,6):\n",
        "    for iterate2 in range(6-iterate1):\n",
        "        if my_list[iterate2]<my_list[iterate2+1]:\n",
        "            my_list[iterate2+1],my_list[iterate2]=my_list[iterate2],my_list[iterate2+1]\n",
        "\n",
        "print(my_list)"
      ],
      "metadata": {
        "colab": {
          "base_uri": "https://localhost:8080/"
        },
        "id": "2i7mMojb0ClI",
        "outputId": "4fa3def9-8f72-47fb-9204-4c063fe10b58"
      },
      "execution_count": null,
      "outputs": [
        {
          "output_type": "stream",
          "name": "stdout",
          "text": [
            "[29, 20, 10, 6, 3, 1]\n"
          ]
        }
      ]
    },
    {
      "cell_type": "code",
      "source": [
        "#task 3 (selection_desc)\n",
        "my_list = [10, 1, 20, 3, 6, 2, 5, 11, 15, 2, 12, 14, 17, 18, 29]\n",
        "for iterate1 in range(len(my_list)-1):\n",
        "    max_location= iterate1\n",
        "    for iterate in range(iterate1+1,len(my_list)):\n",
        "        if my_list[max_location]<my_list[iterate]:\n",
        "            max_location=iterate\n",
        "    my_list[iterate1],my_list[max_location]=my_list[max_location],my_list[iterate1]\n",
        "print(my_list)"
      ],
      "metadata": {
        "colab": {
          "base_uri": "https://localhost:8080/"
        },
        "id": "R1tjCoFZ9XgG",
        "outputId": "2812aa8b-b1c6-4f7c-b8e0-57ff34e13533"
      },
      "execution_count": null,
      "outputs": [
        {
          "output_type": "stream",
          "name": "stdout",
          "text": [
            "[29, 20, 18, 17, 15, 14, 12, 11, 10, 6, 5, 3, 2, 2, 1]\n"
          ]
        }
      ]
    },
    {
      "cell_type": "code",
      "source": [
        "#rough\n",
        "for i in range(5,0,-1):\n",
        "    print(i)"
      ],
      "metadata": {
        "colab": {
          "base_uri": "https://localhost:8080/"
        },
        "id": "0DI0ycbv_-6F",
        "outputId": "e28809c5-ff91-4a0b-bbf2-1b3ccd619dfd"
      },
      "execution_count": null,
      "outputs": [
        {
          "output_type": "stream",
          "name": "stdout",
          "text": [
            "5\n",
            "4\n",
            "3\n",
            "2\n",
            "1\n"
          ]
        }
      ]
    },
    {
      "cell_type": "code",
      "source": [
        "#task 4\n",
        "sitting_list = [10,30,20,70,11,15,22,16,58,100,12,56,70,80]\n",
        "for i_iterate in range(2,len(sitting_list)):\n",
        "    for j_iterate in range(len(sitting_list)-i_iterate):\n",
        "        if j_iterate%2==0:\n",
        "            if sitting_list[j_iterate]>sitting_list[j_iterate+2]:\n",
        "                sitting_list[j_iterate+2],sitting_list[j_iterate]=sitting_list[j_iterate],sitting_list[j_iterate+2]\n",
        "        else: \n",
        "            if sitting_list[j_iterate]<sitting_list[j_iterate+2]:\n",
        "                sitting_list[j_iterate+2],sitting_list[j_iterate]=sitting_list[j_iterate],sitting_list[j_iterate+2]\n",
        "\n",
        "print(sitting_list)"
      ],
      "metadata": {
        "colab": {
          "base_uri": "https://localhost:8080/"
        },
        "id": "UpkJseDpAWoU",
        "outputId": "cc9f0a52-2284-4aca-93ce-7581b3a371a2"
      },
      "execution_count": null,
      "outputs": [
        {
          "output_type": "stream",
          "name": "stdout",
          "text": [
            "[10, 100, 11, 80, 12, 70, 20, 56, 22, 30, 58, 16, 70, 15]\n"
          ]
        }
      ]
    },
    {
      "cell_type": "code",
      "source": [
        "#task 5\n",
        "input_list = [ [\"Alan\", 95, 87, 91], [\"Turing\", 92, 90, 83], [\"Elon\", 87, 92, 80], [\"Musk\", 85, 94, 90] ]\n",
        "mark=[]\n",
        "name=[]\n",
        "\n",
        "def sort_marks(mark_list,name_list):\n",
        "    for iterate1 in range(1,len(mark_list)):\n",
        "        for iterate2 in range(len(mark_list)-iterate1):\n",
        "            if mark_list[iterate2]<mark_list[iterate2+1]:\n",
        "                mark_list[iterate2+1],mark_list[iterate2]=mark_list[iterate2],mark_list[iterate2+1]\n",
        "                name_list[iterate2+1],name_list[iterate2]=name_list[iterate2],name_list[iterate2+1]\n",
        "    return name_list\n",
        "\n",
        "course=input(\"Enter Course code: \")\n",
        "if course==\"CSE110\":\n",
        "    course_index=1\n",
        "elif course==\"PHY111\":\n",
        "    course_index=2\n",
        "elif course==\"MAT110\":\n",
        "    course_index=3\n",
        "\n",
        "for iterate in input_list:\n",
        "    mark.append(iterate[course_index])\n",
        "    name.append(iterate[0])\n",
        "\n",
        "name_list=sort_marks(mark,name)\n",
        "\n",
        "for iterate in name_list:\n",
        "    print(iterate)"
      ],
      "metadata": {
        "colab": {
          "base_uri": "https://localhost:8080/"
        },
        "id": "pfZ5-DDzKlwm",
        "outputId": "638d31db-06a7-42fa-ef72-a0e6599b1472"
      },
      "execution_count": null,
      "outputs": [
        {
          "output_type": "stream",
          "name": "stdout",
          "text": [
            "Enter Course code: PHY111\n",
            "Musk\n",
            "Elon\n",
            "Turing\n",
            "Alan\n"
          ]
        }
      ]
    },
    {
      "cell_type": "code",
      "source": [
        "#task 6 (Bubble)\n",
        "my_list = [4, 2, 3, 1, 6, 5]\n",
        "previous = [4, 2, 3, 1, 6, 5]\n",
        "count=0\n",
        "\n",
        "for iterate1 in range(1,len(my_list)):\n",
        "    for iterate2 in range(len(my_list)-iterate1):\n",
        "        if my_list[iterate2]>my_list[iterate2+1]:\n",
        "            my_list[iterate2+1],my_list[iterate2]=my_list[iterate2],my_list[iterate2+1]\n",
        "            \n",
        "for iterate in range(len(my_list)):\n",
        "    if my_list[iterate]!= previous[iterate]:\n",
        "        count+=1\n",
        "\n",
        "print(count)"
      ],
      "metadata": {
        "colab": {
          "base_uri": "https://localhost:8080/"
        },
        "id": "-fOLjRRN8vKQ",
        "outputId": "a4e65056-6860-4d7b-8fb6-5c3849d7ea37"
      },
      "execution_count": null,
      "outputs": [
        {
          "output_type": "stream",
          "name": "stdout",
          "text": [
            "[1, 2, 3, 4, 5, 6]\n",
            "4\n"
          ]
        }
      ]
    },
    {
      "cell_type": "code",
      "source": [
        "#task 7\n",
        "def selection_sort(my_list):\n",
        "    for iterate1 in range(1,len(my_list)):\n",
        "        for iterate2 in range(len(my_list)-iterate1):\n",
        "            if my_list[iterate2]>my_list[iterate2+1]:\n",
        "                my_list[iterate2+1],my_list[iterate2]=my_list[iterate2],my_list[iterate2+1]\n",
        "    return my_list\n",
        "        \n",
        "\n",
        "list_one=[]\n",
        "length1=int(input(\"Enter length of list one:\"))\n",
        "print(\"Enter value:\")\n",
        "for iterate_one in range(length1):\n",
        "    list_one.append(int(input()))\n",
        "\n",
        "list_two=[]\n",
        "length2=int(input(\"Enter length of list two:\"))\n",
        "print(\"Enter value:\")\n",
        "for iterate_two in range(length2):\n",
        "    list_two.append(int(input()))\n",
        "\n",
        "my_list=list_one + list_two\n",
        "\n",
        "sorted_list= selection_sort(my_list)\n",
        "print(\"Sorted list =\",sorted_list)\n",
        "\n",
        "if len(sorted_list)%2==0:\n",
        "    median=len(sorted_list)//2\n",
        "    med_value=(sorted_list[median-1]+sorted_list[median])/2\n",
        "    print(\"Median =\",med_value)\n",
        "else:\n",
        "    median=(len(sorted_list)+1)//2\n",
        "    print(\"Median =\",sorted_list[median-1])"
      ],
      "metadata": {
        "colab": {
          "base_uri": "https://localhost:8080/"
        },
        "id": "GeFXbfYICQoA",
        "outputId": "9e82b759-a97a-40f7-c036-1c275f758cd6"
      },
      "execution_count": null,
      "outputs": [
        {
          "output_type": "stream",
          "name": "stdout",
          "text": [
            "Enter length of list one:4\n",
            "Enter value:\n",
            "1\n",
            "Enter value:\n",
            "2\n",
            "Enter value:\n",
            "4\n",
            "Enter value:\n",
            "1\n",
            "Enter length of list two:3\n",
            "Enter value:\n",
            "3\n",
            "Enter value:\n",
            "5\n",
            "Enter value:\n",
            "2\n",
            "Sorted list = [1, 1, 2, 2, 3, 4, 5]\n",
            "Median = 2\n"
          ]
        }
      ]
    },
    {
      "cell_type": "code",
      "source": [
        "#task 8\n",
        "list_one=[]\n",
        "length1=int(input(\"Enter length of list one:\"))\n",
        "print(\"Enter value:\")\n",
        "for iterate_one in range(length1):\n",
        "    list_one.append(int(input()))\n",
        "\n",
        "pair_dict={}\n",
        "min=0\n",
        "pair=()\n",
        "\n",
        "for iterate in list_one:\n",
        "    for iterate1 in list_one:\n",
        "        if iterate!=iterate1:\n",
        "            pair_dict[iterate,iterate1]=iterate+iterate1\n",
        "            min=pair_dict[iterate,iterate1]\n",
        "\n",
        "if min<0:\n",
        "    min=-1*min\n",
        "\n",
        "for key,value in pair_dict.items():\n",
        "    if value<0:\n",
        "        abs_value=value*(-1)\n",
        "        if abs_value<min:\n",
        "            min=abs_value\n",
        "            pair=key\n",
        "    else:\n",
        "        if value<min:\n",
        "            min=value\n",
        "            pair=key\n",
        "\n",
        "print(\"Two pairs which have the smallest sum = {} and {}\".format(pair[0],pair[1]))"
      ],
      "metadata": {
        "colab": {
          "base_uri": "https://localhost:8080/"
        },
        "id": "6I0bAG8g5Qy_",
        "outputId": "2ecdb6a8-4ca0-4f92-fad5-198162076735"
      },
      "execution_count": null,
      "outputs": [
        {
          "output_type": "stream",
          "name": "stdout",
          "text": [
            "Enter length of list one:8\n",
            "Enter value:\n",
            "-10\n",
            "15\n",
            "2\n",
            "4\n",
            "-4\n",
            "7\n",
            "-8\n",
            "0\n",
            "Two pairs which have the smallest sum = 4 and -4\n"
          ]
        }
      ]
    },
    {
      "cell_type": "code",
      "source": [
        "#task 9\n",
        "import math\n",
        "points = [(1,7), (4,5), (-1,7), (-2,0), (1,1), (5,-1)]\n",
        "distance_dict={}\n",
        "close_point=()\n",
        "\n",
        "for iterate in points:\n",
        "    distance_dict[iterate]=math.sqrt(iterate[0]**2+iterate[1]**2)\n",
        "    min=distance_dict[iterate]\n",
        "\n",
        "for key,value in distance_dict.items():\n",
        "    if value<min:\n",
        "        min=value\n",
        "        close_point=key\n",
        "\n",
        "print(\"Minimum distance =\",min)\n",
        "print(\"Here the closest point is {} which has a distance of {} from the origin.\".format(close_point,min))"
      ],
      "metadata": {
        "colab": {
          "base_uri": "https://localhost:8080/"
        },
        "id": "r3sL7nOVJfTg",
        "outputId": "194aa7ed-5c83-470d-8334-900acd9ea5df"
      },
      "execution_count": null,
      "outputs": [
        {
          "output_type": "stream",
          "name": "stdout",
          "text": [
            "Minimum distance = 1.4142135623730951\n",
            "Here the closest point is (1, 1) which has a distance of 1.4142135623730951 from the origin.\n"
          ]
        }
      ]
    }
  ]
}